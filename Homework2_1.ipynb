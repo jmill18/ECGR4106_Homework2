{
  "cells": [
    {
      "cell_type": "code",
      "execution_count": 2,
      "id": "d77a372a",
      "metadata": {
        "id": "d77a372a"
      },
      "outputs": [],
      "source": [
        "import torch\n",
        "import torch.nn as nn\n",
        "import torchvision\n",
        "from torchvision import transforms\n",
        "from matplotlib import pyplot as plt\n",
        "import os"
      ]
    },
    {
      "cell_type": "code",
      "execution_count": 3,
      "id": "a3118906",
      "metadata": {
        "colab": {
          "base_uri": "https://localhost:8080/",
          "height": 0
        },
        "id": "a3118906",
        "outputId": "adbccf48-90f9-4d29-b8f7-6475ab76cea0"
      },
      "outputs": [
        {
          "output_type": "stream",
          "name": "stdout",
          "text": [
            "True\n"
          ]
        }
      ],
      "source": [
        "print(torch.cuda.is_available())"
      ]
    },
    {
      "cell_type": "code",
      "execution_count": 4,
      "id": "bce74a36",
      "metadata": {
        "id": "bce74a36"
      },
      "outputs": [],
      "source": [
        "device = torch.device('cuda' if torch.cuda.is_available() else 'cpu')"
      ]
    },
    {
      "cell_type": "code",
      "execution_count": 5,
      "id": "9cc0c1f2",
      "metadata": {
        "id": "9cc0c1f2"
      },
      "outputs": [],
      "source": [
        "def init_cnn(module):\n",
        "    if type(module) == nn.Linear or type(module) == nn.Conv2d:\n",
        "        nn.init.xavier_uniform_(module.weight)"
      ]
    },
    {
      "cell_type": "code",
      "execution_count": 6,
      "id": "c88b1e49",
      "metadata": {
        "id": "c88b1e49"
      },
      "outputs": [],
      "source": [
        "class LeNet(nn.Module):\n",
        "    def __init__(self, lr=0.1, num_classes=10):\n",
        "        super(LeNet, self).__init__()\n",
        "        self.net = nn.Sequential(\n",
        "            nn.LazyConv2d(6, kernel_size=5, padding=2), nn.Sigmoid(),\n",
        "            nn.AvgPool2d(kernel_size=2, stride=2),\n",
        "            nn.LazyConv2d(16, kernel_size=5), nn.Sigmoid(),\n",
        "            nn.AvgPool2d(kernel_size=2, stride=2),\n",
        "            nn.Flatten(),\n",
        "            nn.LazyLinear(120), nn.Sigmoid(),\n",
        "            nn.LazyLinear(84), nn.Sigmoid(),\n",
        "            nn.LazyLinear(num_classes))\n",
        "    def forward(self, x):\n",
        "        modelOutput = self.net(x)\n",
        "        return modelOutput\n",
        "    def layer_summary(self, X_shape):\n",
        "        X = torch.randn(*X_shape)\n",
        "        for layer in self.net:\n",
        "            X = layer(X)\n",
        "            print(layer.__class__.__name__, 'output shape:\\t', X.shape)"
      ]
    },
    {
      "cell_type": "code",
      "execution_count": 7,
      "id": "5e96223c",
      "metadata": {
        "id": "5e96223c"
      },
      "outputs": [],
      "source": [
        "class ModernLeNet(nn.Module):\n",
        "    def __init__(self, lr=0.001, num_classes=10):\n",
        "        super(ModernLeNet, self).__init__()\n",
        "        self.net = nn.Sequential(\n",
        "            nn.LazyConv2d(6, kernel_size=5, padding=2), nn.ReLU(),\n",
        "            nn.MaxPool2d(kernel_size=2, stride=2),\n",
        "            nn.LazyConv2d(16, kernel_size=5), nn.ReLU(),\n",
        "            nn.MaxPool2d(kernel_size=2, stride=2),\n",
        "            nn.Flatten(),\n",
        "            nn.LazyLinear(120), nn.ReLU(),\n",
        "            nn.LazyLinear(84), nn.ReLU(),\n",
        "            nn.LazyLinear(num_classes))\n",
        "    def forward(self, x):\n",
        "        return self.net(x)\n",
        "    def layer_summary(self, X_shape):\n",
        "        X = torch.randn(*X_shape)\n",
        "        for layer in self.net:\n",
        "            X=layer(X)\n",
        "            print(layer.__class__.__name__, 'output shape:\\t', X.shape)"
      ]
    },
    {
      "cell_type": "code",
      "execution_count": 8,
      "id": "1dc0b4ad",
      "metadata": {
        "id": "1dc0b4ad"
      },
      "outputs": [],
      "source": [
        "class ModernLeNet2(nn.Module):\n",
        "    def __init__(self, lr=0.001, num_classes=10):\n",
        "        super(ModernLeNet2, self).__init__()\n",
        "        self.net = nn.Sequential(\n",
        "            nn.LazyConv2d(6, kernel_size=2, padding=2), nn.ReLU(),\n",
        "            nn.MaxPool2d(kernel_size=2, stride=2),\n",
        "            nn.LazyConv2d(16, kernel_size=2), nn.ReLU(),\n",
        "            nn.MaxPool2d(kernel_size=2, stride=2),\n",
        "            nn.Flatten(),\n",
        "            nn.LazyLinear(120), nn.ReLU(),\n",
        "            nn.LazyLinear(84), nn.ReLU(),\n",
        "            nn.LazyLinear(num_classes))\n",
        "    def forward(self, x):\n",
        "        return self.net(x)\n",
        "    def layer_summary(self, X_shape):\n",
        "        X = torch.randn(*X_shape)\n",
        "        for layer in self.net:\n",
        "            X=layer(X)\n",
        "            print(layer.__class__.__name__, 'output shape:\\t', X.shape)"
      ]
    },
    {
      "cell_type": "code",
      "execution_count": 9,
      "id": "1e40648c",
      "metadata": {
        "id": "1e40648c"
      },
      "outputs": [],
      "source": [
        "class ModernLeNet3(nn.Module):\n",
        "    def __init__(self, lr=0.001, num_classes=10):\n",
        "        super(ModernLeNet3, self).__init__()\n",
        "        self.net = nn.Sequential(\n",
        "            nn.LazyConv2d(12, kernel_size=5, padding=2), nn.ReLU(),\n",
        "            nn.MaxPool2d(kernel_size=2, stride=2),\n",
        "            nn.LazyConv2d(24, kernel_size=5), nn.ReLU(),\n",
        "            nn.MaxPool2d(kernel_size=2, stride=2),\n",
        "            nn.Flatten(),\n",
        "            nn.LazyLinear(180), nn.ReLU(),\n",
        "            nn.LazyLinear(108), nn.ReLU(),\n",
        "            nn.LazyLinear(num_classes))\n",
        "    def forward(self, x):\n",
        "        return self.net(x)\n",
        "    def layer_summary(self, X_shape):\n",
        "        X = torch.randn(*X_shape)\n",
        "        for layer in self.net:\n",
        "            X=layer(X)\n",
        "            print(layer.__class__.__name__, 'output shape:\\t', X.shape)"
      ]
    },
    {
      "cell_type": "code",
      "execution_count": 10,
      "id": "8557de61",
      "metadata": {
        "id": "8557de61"
      },
      "outputs": [],
      "source": [
        "class ModernLeNet4(nn.Module):\n",
        "    def __init__(self, lr=0.001, num_classes=10):\n",
        "        super(ModernLeNet4, self).__init__()\n",
        "        self.net = nn.Sequential(\n",
        "            nn.LazyConv2d(6, kernel_size=5, padding=2), nn.ReLU(),\n",
        "            nn.MaxPool2d(kernel_size=2, stride=2),\n",
        "            nn.LazyConv2d(16, kernel_size=5, padding=4), nn.ReLU(),\n",
        "            nn.MaxPool2d(kernel_size=2, stride=2),\n",
        "            nn.LazyConv2d(36, kernel_size=5), nn.ReLU(),\n",
        "            nn.MaxPool2d(kernel_size=2, stride=2),\n",
        "            nn.Flatten(),\n",
        "            nn.LazyLinear(120), nn.ReLU(),\n",
        "            nn.LazyLinear(84), nn.ReLU(),\n",
        "            nn.LazyLinear(num_classes))\n",
        "    def forward(self, x):\n",
        "        return self.net(x)\n",
        "    def layer_summary(self, X_shape):\n",
        "        X = torch.randn(*X_shape)\n",
        "        for layer in self.net:\n",
        "            X=layer(X)\n",
        "            print(layer.__class__.__name__, 'output shape:\\t', X.shape)"
      ]
    },
    {
      "cell_type": "code",
      "execution_count": 11,
      "id": "3dff2ac4",
      "metadata": {
        "id": "3dff2ac4"
      },
      "outputs": [],
      "source": [
        "class ModernLeNet5(nn.Module):\n",
        "    def __init__(self, lr=0.001, num_classes=10):\n",
        "        super(ModernLeNet5, self).__init__()\n",
        "        self.net = nn.Sequential(\n",
        "            nn.LazyConv2d(16, kernel_size=5), nn.ReLU(),\n",
        "            nn.MaxPool2d(kernel_size=2, stride=2),\n",
        "            nn.Flatten(),\n",
        "            nn.LazyLinear(120), nn.ReLU(),\n",
        "            nn.LazyLinear(84), nn.ReLU(),\n",
        "            nn.LazyLinear(num_classes))\n",
        "    def forward(self, x):\n",
        "        return self.net(x)\n",
        "    def layer_summary(self, X_shape):\n",
        "        X = torch.randn(*X_shape)\n",
        "        for layer in self.net:\n",
        "            X=layer(X)\n",
        "            print(layer.__class__.__name__, 'output shape:\\t', X.shape)"
      ]
    },
    {
      "cell_type": "code",
      "execution_count": 12,
      "id": "69811a4e",
      "metadata": {
        "colab": {
          "base_uri": "https://localhost:8080/",
          "height": 0
        },
        "id": "69811a4e",
        "outputId": "fa79da71-42a1-442a-9488-cc00b2da1378"
      },
      "outputs": [
        {
          "output_type": "stream",
          "name": "stderr",
          "text": [
            "/usr/local/lib/python3.8/dist-packages/torch/nn/modules/lazy.py:180: UserWarning: Lazy modules are a new feature under heavy development so changes to the API or functionality can happen at any moment.\n",
            "  warnings.warn('Lazy modules are a new feature under heavy development '\n"
          ]
        },
        {
          "output_type": "stream",
          "name": "stdout",
          "text": [
            "Conv2d output shape:\t torch.Size([1, 6, 28, 28])\n",
            "Sigmoid output shape:\t torch.Size([1, 6, 28, 28])\n",
            "AvgPool2d output shape:\t torch.Size([1, 6, 14, 14])\n",
            "Conv2d output shape:\t torch.Size([1, 16, 10, 10])\n",
            "Sigmoid output shape:\t torch.Size([1, 16, 10, 10])\n",
            "AvgPool2d output shape:\t torch.Size([1, 16, 5, 5])\n",
            "Flatten output shape:\t torch.Size([1, 400])\n",
            "Linear output shape:\t torch.Size([1, 120])\n",
            "Sigmoid output shape:\t torch.Size([1, 120])\n",
            "Linear output shape:\t torch.Size([1, 84])\n",
            "Sigmoid output shape:\t torch.Size([1, 84])\n",
            "Linear output shape:\t torch.Size([1, 10])\n"
          ]
        }
      ],
      "source": [
        "model = LeNet()\n",
        "model.layer_summary((1, 1, 28, 28))"
      ]
    },
    {
      "cell_type": "code",
      "execution_count": 13,
      "id": "d26afb4d",
      "metadata": {
        "colab": {
          "base_uri": "https://localhost:8080/",
          "height": 0
        },
        "id": "d26afb4d",
        "outputId": "7e330360-3fb4-44e1-ecaa-c0d79f34de80"
      },
      "outputs": [
        {
          "output_type": "stream",
          "name": "stdout",
          "text": [
            "Conv2d output shape:\t torch.Size([1, 6, 28, 28])\n",
            "ReLU output shape:\t torch.Size([1, 6, 28, 28])\n",
            "MaxPool2d output shape:\t torch.Size([1, 6, 14, 14])\n",
            "Conv2d output shape:\t torch.Size([1, 16, 10, 10])\n",
            "ReLU output shape:\t torch.Size([1, 16, 10, 10])\n",
            "MaxPool2d output shape:\t torch.Size([1, 16, 5, 5])\n",
            "Flatten output shape:\t torch.Size([1, 400])\n",
            "Linear output shape:\t torch.Size([1, 120])\n",
            "ReLU output shape:\t torch.Size([1, 120])\n",
            "Linear output shape:\t torch.Size([1, 84])\n",
            "ReLU output shape:\t torch.Size([1, 84])\n",
            "Linear output shape:\t torch.Size([1, 10])\n"
          ]
        }
      ],
      "source": [
        "modern_model = ModernLeNet()\n",
        "modern_model.layer_summary((1,1,28,28))"
      ]
    },
    {
      "cell_type": "code",
      "execution_count": 14,
      "id": "00eaaa34",
      "metadata": {
        "colab": {
          "base_uri": "https://localhost:8080/",
          "height": 0
        },
        "id": "00eaaa34",
        "outputId": "6f33c7b9-bb8b-411b-c974-843016d8c4c2"
      },
      "outputs": [
        {
          "output_type": "stream",
          "name": "stdout",
          "text": [
            "Conv2d output shape:\t torch.Size([1, 12, 28, 28])\n",
            "ReLU output shape:\t torch.Size([1, 12, 28, 28])\n",
            "MaxPool2d output shape:\t torch.Size([1, 12, 14, 14])\n",
            "Conv2d output shape:\t torch.Size([1, 24, 10, 10])\n",
            "ReLU output shape:\t torch.Size([1, 24, 10, 10])\n",
            "MaxPool2d output shape:\t torch.Size([1, 24, 5, 5])\n",
            "Flatten output shape:\t torch.Size([1, 600])\n",
            "Linear output shape:\t torch.Size([1, 180])\n",
            "ReLU output shape:\t torch.Size([1, 180])\n",
            "Linear output shape:\t torch.Size([1, 108])\n",
            "ReLU output shape:\t torch.Size([1, 108])\n",
            "Linear output shape:\t torch.Size([1, 10])\n"
          ]
        }
      ],
      "source": [
        "improved_modern_model2 = ModernLeNet3()\n",
        "improved_modern_model2.layer_summary((1,1,28,28))"
      ]
    },
    {
      "cell_type": "code",
      "execution_count": 15,
      "id": "b10f0551",
      "metadata": {
        "colab": {
          "base_uri": "https://localhost:8080/",
          "height": 0
        },
        "id": "b10f0551",
        "outputId": "afcbda07-6f2a-4934-af4e-9dad64f427c4"
      },
      "outputs": [
        {
          "output_type": "stream",
          "name": "stdout",
          "text": [
            "Conv2d output shape:\t torch.Size([1, 6, 28, 28])\n",
            "ReLU output shape:\t torch.Size([1, 6, 28, 28])\n",
            "MaxPool2d output shape:\t torch.Size([1, 6, 14, 14])\n",
            "Conv2d output shape:\t torch.Size([1, 16, 18, 18])\n",
            "ReLU output shape:\t torch.Size([1, 16, 18, 18])\n",
            "MaxPool2d output shape:\t torch.Size([1, 16, 9, 9])\n",
            "Conv2d output shape:\t torch.Size([1, 36, 5, 5])\n",
            "ReLU output shape:\t torch.Size([1, 36, 5, 5])\n",
            "MaxPool2d output shape:\t torch.Size([1, 36, 2, 2])\n",
            "Flatten output shape:\t torch.Size([1, 144])\n",
            "Linear output shape:\t torch.Size([1, 120])\n",
            "ReLU output shape:\t torch.Size([1, 120])\n",
            "Linear output shape:\t torch.Size([1, 84])\n",
            "ReLU output shape:\t torch.Size([1, 84])\n",
            "Linear output shape:\t torch.Size([1, 10])\n"
          ]
        }
      ],
      "source": [
        "improved_modern_model3 = ModernLeNet4()\n",
        "improved_modern_model3.layer_summary((1,1,28,28))"
      ]
    },
    {
      "cell_type": "code",
      "execution_count": 16,
      "id": "7c863218",
      "metadata": {
        "colab": {
          "base_uri": "https://localhost:8080/",
          "height": 0
        },
        "id": "7c863218",
        "outputId": "47e2509d-0056-46e1-c532-2eb04b041473"
      },
      "outputs": [
        {
          "output_type": "stream",
          "name": "stdout",
          "text": [
            "Conv2d output shape:\t torch.Size([1, 16, 24, 24])\n",
            "ReLU output shape:\t torch.Size([1, 16, 24, 24])\n",
            "MaxPool2d output shape:\t torch.Size([1, 16, 12, 12])\n",
            "Flatten output shape:\t torch.Size([1, 2304])\n",
            "Linear output shape:\t torch.Size([1, 120])\n",
            "ReLU output shape:\t torch.Size([1, 120])\n",
            "Linear output shape:\t torch.Size([1, 84])\n",
            "ReLU output shape:\t torch.Size([1, 84])\n",
            "Linear output shape:\t torch.Size([1, 10])\n"
          ]
        }
      ],
      "source": [
        "improved_modern_model4 = ModernLeNet5()\n",
        "improved_modern_model4.layer_summary((1,1,28,28))"
      ]
    },
    {
      "cell_type": "code",
      "execution_count": 17,
      "id": "6c5a352f",
      "metadata": {
        "colab": {
          "base_uri": "https://localhost:8080/",
          "height": 423,
          "referenced_widgets": [
            "d7161937a60341a7b2d16368a8a41e4e",
            "fb2d95d5040c4e89826d40f4debdfffd",
            "3cc32ad71cd44c469efda31b023d59c2",
            "b78e1d8350934c948f0d1b284bb15ca4",
            "0fdc98553e4a41fea6d3a9b24faff1e2",
            "79e46bda50774cfea240eef8e25a8e7f",
            "a7bea3860d4c4bc08cc80579d3aa06d5",
            "49d014a04ef0471e83e5941a44bb23ba",
            "dd03f18c27684999b6154a092f496a7a",
            "953c2a14dbe645a7b0e873833167380a",
            "e4166493bd96466eb0e2e95e446f7c50",
            "0e766240af934bdf98c5f272d95033d6",
            "ae676f7f6c5d4aefa02f3ce04f3c5081",
            "ad20b6aa63f44ebd86dafc4e467c1908",
            "9b0ac93f1b6646318c2e1711bc2ebc52",
            "b1f44d0ff33c406eb58116ae6d63e799",
            "28bfe1b3023a46ad9d8a602eef6f9e03",
            "da66b2cbaa2d4a6b88bbb70ababf9df5",
            "ecf3082bd7c240c686a519b27b54f088",
            "be839a8e650f430597f5b3f60034e19e",
            "c3ff6b8d3052490980582ad9dfce587d",
            "689cf9fc476245faaaf1f68ad0fa0943",
            "b5f95b2656aa446781123d19ba6d14ea",
            "415568d0c3b84b018b276302d8da2a31",
            "ab599f2e02d74d1b958e0670ac5d7ded",
            "5a5b741bb0a849cb9aed89ae2310a30a",
            "d064895afcd6462d9da00b6a1b9ddb3a",
            "0da9d25472d04206932f4500915f0ed6",
            "966ce4e5e6c64ce29d95f286771686b4",
            "0647244a2ae4434ab863209d90497b9f",
            "59e5c164319441b9b1dddbc3fb34772c",
            "87d0514f76454216afa928b3f537cf93",
            "a31d6ff6b51b4bedbe7374f73f16e62a",
            "89fe7d7031e24f8dbafb689081cdc7be",
            "737666573845459dafae26c649cc7e8b",
            "cdc1c7491f574cdf9157c31ad1f500e5",
            "919cf6f33f39455b9c95741deb9b772c",
            "d6574164f49147d8ae8d1d2c4f9736e9",
            "29f157197fde4c0289f106ea70e5723e",
            "e4a11b38be0c4380844b943b0acc9f79",
            "bb1b31fcc55443378f3033bf9d3d397d",
            "e76d162f6bac4135afd0bcd908682876",
            "b2ad96a30b2c4bc4baf494b25ccc8d8e",
            "f3e23fe6d9134aac920041aba9b2c446"
          ]
        },
        "id": "6c5a352f",
        "outputId": "8060d927-0020-4428-bf38-429bc2aefd08"
      },
      "outputs": [
        {
          "output_type": "stream",
          "name": "stdout",
          "text": [
            "Downloading http://fashion-mnist.s3-website.eu-central-1.amazonaws.com/train-images-idx3-ubyte.gz\n",
            "Downloading http://fashion-mnist.s3-website.eu-central-1.amazonaws.com/train-images-idx3-ubyte.gz to ./data/FashionMNIST/raw/train-images-idx3-ubyte.gz\n"
          ]
        },
        {
          "output_type": "display_data",
          "data": {
            "text/plain": [
              "  0%|          | 0/26421880 [00:00<?, ?it/s]"
            ],
            "application/vnd.jupyter.widget-view+json": {
              "version_major": 2,
              "version_minor": 0,
              "model_id": "d7161937a60341a7b2d16368a8a41e4e"
            }
          },
          "metadata": {}
        },
        {
          "output_type": "stream",
          "name": "stdout",
          "text": [
            "Extracting ./data/FashionMNIST/raw/train-images-idx3-ubyte.gz to ./data/FashionMNIST/raw\n",
            "\n",
            "Downloading http://fashion-mnist.s3-website.eu-central-1.amazonaws.com/train-labels-idx1-ubyte.gz\n",
            "Downloading http://fashion-mnist.s3-website.eu-central-1.amazonaws.com/train-labels-idx1-ubyte.gz to ./data/FashionMNIST/raw/train-labels-idx1-ubyte.gz\n"
          ]
        },
        {
          "output_type": "display_data",
          "data": {
            "text/plain": [
              "  0%|          | 0/29515 [00:00<?, ?it/s]"
            ],
            "application/vnd.jupyter.widget-view+json": {
              "version_major": 2,
              "version_minor": 0,
              "model_id": "0e766240af934bdf98c5f272d95033d6"
            }
          },
          "metadata": {}
        },
        {
          "output_type": "stream",
          "name": "stdout",
          "text": [
            "Extracting ./data/FashionMNIST/raw/train-labels-idx1-ubyte.gz to ./data/FashionMNIST/raw\n",
            "\n",
            "Downloading http://fashion-mnist.s3-website.eu-central-1.amazonaws.com/t10k-images-idx3-ubyte.gz\n",
            "Downloading http://fashion-mnist.s3-website.eu-central-1.amazonaws.com/t10k-images-idx3-ubyte.gz to ./data/FashionMNIST/raw/t10k-images-idx3-ubyte.gz\n"
          ]
        },
        {
          "output_type": "display_data",
          "data": {
            "text/plain": [
              "  0%|          | 0/4422102 [00:00<?, ?it/s]"
            ],
            "application/vnd.jupyter.widget-view+json": {
              "version_major": 2,
              "version_minor": 0,
              "model_id": "b5f95b2656aa446781123d19ba6d14ea"
            }
          },
          "metadata": {}
        },
        {
          "output_type": "stream",
          "name": "stdout",
          "text": [
            "Extracting ./data/FashionMNIST/raw/t10k-images-idx3-ubyte.gz to ./data/FashionMNIST/raw\n",
            "\n",
            "Downloading http://fashion-mnist.s3-website.eu-central-1.amazonaws.com/t10k-labels-idx1-ubyte.gz\n",
            "Downloading http://fashion-mnist.s3-website.eu-central-1.amazonaws.com/t10k-labels-idx1-ubyte.gz to ./data/FashionMNIST/raw/t10k-labels-idx1-ubyte.gz\n"
          ]
        },
        {
          "output_type": "display_data",
          "data": {
            "text/plain": [
              "  0%|          | 0/5148 [00:00<?, ?it/s]"
            ],
            "application/vnd.jupyter.widget-view+json": {
              "version_major": 2,
              "version_minor": 0,
              "model_id": "89fe7d7031e24f8dbafb689081cdc7be"
            }
          },
          "metadata": {}
        },
        {
          "output_type": "stream",
          "name": "stdout",
          "text": [
            "Extracting ./data/FashionMNIST/raw/t10k-labels-idx1-ubyte.gz to ./data/FashionMNIST/raw\n",
            "\n"
          ]
        }
      ],
      "source": [
        "train_data = torchvision.datasets.FashionMNIST(root='./data',\n",
        "                                              train=True,\n",
        "                                              transform=transforms.ToTensor(),\n",
        "                                              download = True)\n",
        "val_data = torchvision.datasets.FashionMNIST(root='./data',\n",
        "                                            train=False,\n",
        "                                            transform=transforms.ToTensor(),\n",
        "                                            download=True)\n",
        "train_loader = torch.utils.data.DataLoader(dataset=train_data,\n",
        "                                          batch_size=100,\n",
        "                                          shuffle=True, num_workers=os.cpu_count())\n",
        "val_loader = torch.utils.data.DataLoader(dataset=val_data,\n",
        "                                        batch_size=100,\n",
        "                                        shuffle=False)"
      ]
    },
    {
      "cell_type": "code",
      "execution_count": 18,
      "id": "b41ae991",
      "metadata": {
        "id": "b41ae991"
      },
      "outputs": [],
      "source": [
        "model = LeNet().to(device)\n",
        "modern_model = ModernLeNet().to(device)\n",
        "improved_modern_model = ModernLeNet2().to(device)\n",
        "improved_modern_model2 = ModernLeNet3().to(device)\n",
        "improved_modern_model3 = ModernLeNet4().to(device)\n",
        "improved_modern_model4 = ModernLeNet5().to(device)"
      ]
    },
    {
      "cell_type": "code",
      "execution_count": 19,
      "id": "98d165c3",
      "metadata": {
        "id": "98d165c3"
      },
      "outputs": [],
      "source": [
        "lossCriterion = nn.CrossEntropyLoss()\n",
        "optim = torch.optim.Adam(model.parameters(), lr=0.001)\n",
        "optim2 = torch.optim.Adam(modern_model.parameters(), lr=0.001)\n",
        "optim3 = torch.optim.Adam(improved_modern_model.parameters(), lr=0.001)\n",
        "optim4 = torch.optim.Adam(improved_modern_model2.parameters(), lr=0.001)\n",
        "optim5 = torch.optim.Adam(improved_modern_model3.parameters(), lr=0.001)\n",
        "optim6 = torch.optim.Adam(improved_modern_model4.parameters(), lr=0.001)"
      ]
    },
    {
      "cell_type": "code",
      "execution_count": 20,
      "id": "609b0920",
      "metadata": {
        "colab": {
          "base_uri": "https://localhost:8080/",
          "height": 267
        },
        "id": "609b0920",
        "outputId": "608cd7ba-c287-4a43-ccbe-d1b092cb5eab"
      },
      "outputs": [
        {
          "output_type": "display_data",
          "data": {
            "text/plain": [
              "<Figure size 432x288 with 6 Axes>"
            ],
            "image/png": "[encoded data removed]"
          },
          "metadata": {
            "needs_background": "light"
          }
        }
      ],
      "source": [
        "imageExamples = iter(val_loader)\n",
        "example_data, example_targets = next(imageExamples)\n",
        "\n",
        "for i in range(6):\n",
        "    plt.subplot(2,3,i+1)\n",
        "    plt.imshow(example_data[i][0], cmap='gray')\n",
        "plt.show()"
      ]
    },
    {
      "cell_type": "code",
      "execution_count": 21,
      "id": "6d2ad6e9",
      "metadata": {
        "colab": {
          "base_uri": "https://localhost:8080/",
          "height": 0
        },
        "id": "6d2ad6e9",
        "outputId": "11770e61-9cf0-41f1-abbb-8801720410cb"
      },
      "outputs": [
        {
          "output_type": "stream",
          "name": "stdout",
          "text": [
            "Epoch [2/20], train loss: 0.6101, val loss: 0.6128, val_acc: 0.7502 %\n",
            "Epoch [4/20], train loss: 0.5515, val loss: 0.5413, val_acc: 0.7965 %\n",
            "Epoch [6/20], train loss: 0.4130, val loss: 0.5472, val_acc: 0.8155 %\n",
            "Epoch [8/20], train loss: 0.4122, val loss: 0.5024, val_acc: 0.8297 %\n",
            "Epoch [10/20], train loss: 0.2697, val loss: 0.4626, val_acc: 0.8396 %\n",
            "Epoch [12/20], train loss: 0.3748, val loss: 0.4271, val_acc: 0.8519 %\n",
            "Epoch [14/20], train loss: 0.2366, val loss: 0.4146, val_acc: 0.8563 %\n",
            "Epoch [16/20], train loss: 0.3152, val loss: 0.3988, val_acc: 0.8607 %\n",
            "Epoch [18/20], train loss: 0.3092, val loss: 0.3883, val_acc: 0.8622 %\n",
            "Epoch [20/20], train loss: 0.3570, val loss: 0.3545, val_acc: 0.8658 %\n"
          ]
        }
      ],
      "source": [
        "num_epochs = 20\n",
        "num_epochs = 20\n",
        "valid_loss = [None] * 20\n",
        "training_loss = [None] * 20\n",
        "valid_acc = [None] * 20\n",
        "index = 0\n",
        "for epoch in range(num_epochs):\n",
        "    n_correct_pred = 0\n",
        "    n_samples = 0\n",
        "    for i, (images, labels) in enumerate(train_loader):\n",
        "        images = images.to(device)\n",
        "        labels = labels.to(device)\n",
        "        \n",
        "        outputs = model(images)\n",
        "        loss = lossCriterion(outputs, labels)\n",
        "        \n",
        "        optim.zero_grad()\n",
        "        loss.backward()\n",
        "        optim.step()\n",
        "        \n",
        "    with torch.no_grad():\n",
        "        for j, (valImages, valLabels) in enumerate(val_loader):\n",
        "            valImages = valImages.to(device)\n",
        "            valLabels = valLabels.to(device)\n",
        "            outputs = model(valImages)\n",
        "            val_loss = lossCriterion(outputs, valLabels)\n",
        "            _, pred = torch.max(outputs.data, 1)\n",
        "            n_samples += valLabels.size(0)\n",
        "            n_correct_pred += (pred == valLabels).sum().item()\n",
        "    \n",
        "    val_acc = (n_correct_pred / n_samples)\n",
        "    valid_loss[index] = val_loss.item()\n",
        "    training_loss[index] = loss.item()\n",
        "    valid_acc[index] = val_acc\n",
        "    index += 1\n",
        "    if (epoch+1) % 2 == 0:\n",
        "        print(f'Epoch [{epoch+1}/{num_epochs}], train loss: {loss.item():.4f}, val loss: {val_loss.item():.4f}, val_acc: {val_acc:.4f} %')"
      ]
    },
    {
      "cell_type": "code",
      "source": [
        "epochs = [None]*20\n",
        "for i in range(20):\n",
        "  epochs[i] = i+1\n",
        "plt.rcParams[\"figure.figsize\"] = [7.50, 3.50]\n",
        "plt.rcParams[\"figure.autolayout\"] = True\n",
        "\n",
        "plt.title(\"Validation Accuracy/Loss and Training Loss vs No. Epochs\")\n",
        "plt.xlabel(\"Number of epochs\")\n",
        "plt.plot(epochs, valid_acc, label=\"Validation Accuracy\", color=\"red\")\n",
        "plt.plot(epochs, training_loss, label=\"Training Loss\", color=\"purple\")\n",
        "plt.plot(epochs, valid_loss, label=\"Validation Loss\", color=\"Green\")\n",
        "\n",
        "plt.legend()\n",
        "plt.show()"
      ],
      "metadata": {
        "id": "yvFIRTEqjjdP"
      },
      "id": "yvFIRTEqjjdP",
      "execution_count": null,
      "outputs": []
    },
    {
      "cell_type": "code",
      "execution_count": null,
      "id": "aa90ebda",
      "metadata": {
        "id": "aa90ebda",
        "outputId": "e20304b5-702e-44c8-d148-7f8e56e51f41"
      },
      "outputs": [
        {
          "name": "stdout",
          "output_type": "stream",
          "text": [
            "Epoch [2/20], train loss: 0.6344, val loss: 0.4320, val_acc: 83.73 %\n",
            "Epoch [4/20], train loss: 0.3515, val loss: 0.3662, val_acc: 86.80 %\n",
            "Epoch [6/20], train loss: 0.1531, val loss: 0.3386, val_acc: 87.56 %\n",
            "Epoch [8/20], train loss: 0.2119, val loss: 0.3520, val_acc: 88.71 %\n",
            "Epoch [10/20], train loss: 0.2826, val loss: 0.3452, val_acc: 89.71 %\n",
            "Epoch [12/20], train loss: 0.1403, val loss: 0.3210, val_acc: 89.72 %\n",
            "Epoch [14/20], train loss: 0.2123, val loss: 0.2968, val_acc: 89.75 %\n",
            "Epoch [16/20], train loss: 0.2016, val loss: 0.3117, val_acc: 89.31 %\n",
            "Epoch [18/20], train loss: 0.2072, val loss: 0.3009, val_acc: 89.99 %\n",
            "Epoch [20/20], train loss: 0.2751, val loss: 0.2701, val_acc: 90.04 %\n"
          ]
        }
      ],
      "source": [
        "num_epochs = 20\n",
        "valid_loss = [None] * 20\n",
        "training_loss = [None] * 20\n",
        "valid_acc = [None] * 20\n",
        "index = 0\n",
        "for epoch in range(num_epochs):\n",
        "    n_correct_pred = 0\n",
        "    n_samples = 0\n",
        "    for i, (images, labels) in enumerate(train_loader):\n",
        "        images = images.to(device)\n",
        "        labels = labels.to(device)\n",
        "        \n",
        "        outputs = modern_model(images)\n",
        "        loss = lossCriterion(outputs, labels)\n",
        "        \n",
        "        optim2.zero_grad()\n",
        "        loss.backward()\n",
        "        optim2.step()\n",
        "        \n",
        "    with torch.no_grad():\n",
        "        for j, (valImages, valLabels) in enumerate(val_loader):\n",
        "            valImages = valImages.to(device)\n",
        "            valLabels = valLabels.to(device)\n",
        "            outputs = modern_model(valImages)\n",
        "            val_loss = lossCriterion(outputs, valLabels)\n",
        "            _, pred = torch.max(outputs.data, 1)\n",
        "            n_samples += valLabels.size(0)\n",
        "            n_correct_pred += (pred == valLabels).sum().item()\n",
        "    \n",
        "    val_acc = (n_correct_pred / n_samples)\n",
        "    valid_loss[index] = val_loss.item()\n",
        "    training_loss[index] = loss.item()\n",
        "    valid_acc[index] = val_acc\n",
        "    index += 1\n",
        "    if (epoch+1) % 2 == 0:\n",
        "        print(f'Epoch [{epoch+1}/{num_epochs}], train loss: {loss.item():.4f}, val loss: {val_loss.item():.4f}, val_acc: {val_acc:.4f} %')"
      ]
    },
    {
      "cell_type": "code",
      "source": [
        "epochs = [None]*20\n",
        "for i in range(20):\n",
        "  epochs[i] = i+1\n",
        "plt.rcParams[\"figure.figsize\"] = [7.50, 3.50]\n",
        "plt.rcParams[\"figure.autolayout\"] = True\n",
        "\n",
        "plt.title(\"Validation Accuracy/Loss and Training Loss vs No. Epochs\")\n",
        "plt.xlabel(\"Number of epochs\")\n",
        "plt.plot(epochs, valid_acc, label=\"Validation Accuracy\", color=\"red\")\n",
        "plt.plot(epochs, training_loss, label=\"Training Loss\", color=\"purple\")\n",
        "plt.plot(epochs, valid_loss, label=\"Validation Loss\", color=\"Green\")\n",
        "\n",
        "plt.legend()\n",
        "plt.show()"
      ],
      "metadata": {
        "id": "kVtMGliOjk7u",
        "colab": {
          "base_uri": "https://localhost:8080/",
          "height": 261
        },
        "outputId": "2cdb73ab-6573-43f1-99e2-6449c5cf98b9"
      },
      "id": "kVtMGliOjk7u",
      "execution_count": 22,
      "outputs": [
        {
          "output_type": "display_data",
          "data": {
            "text/plain": [
              "<Figure size 540x252 with 1 Axes>"
            ],
            "image/png": "[encoded data removed]"
          },
          "metadata": {
            "needs_background": "light"
          }
        }
      ]
    },
    {
      "cell_type": "code",
      "execution_count": 23,
      "id": "0aaa1cab",
      "metadata": {
        "id": "0aaa1cab",
        "outputId": "344b7ad6-e05c-461e-9e51-3e9f4fa0db49",
        "colab": {
          "base_uri": "https://localhost:8080/",
          "height": 0
        }
      },
      "outputs": [
        {
          "output_type": "stream",
          "name": "stdout",
          "text": [
            "Epoch [2/20], train loss: 0.5335, val loss: 0.4469, val_acc: 0.8585 %\n",
            "Epoch [4/20], train loss: 0.3919, val loss: 0.3545, val_acc: 0.8828 %\n",
            "Epoch [6/20], train loss: 0.2479, val loss: 0.2889, val_acc: 0.8909 %\n",
            "Epoch [8/20], train loss: 0.1753, val loss: 0.2821, val_acc: 0.8933 %\n",
            "Epoch [10/20], train loss: 0.1830, val loss: 0.2915, val_acc: 0.9008 %\n",
            "Epoch [12/20], train loss: 0.1980, val loss: 0.2676, val_acc: 0.9020 %\n",
            "Epoch [14/20], train loss: 0.2021, val loss: 0.2506, val_acc: 0.9031 %\n",
            "Epoch [16/20], train loss: 0.2385, val loss: 0.3326, val_acc: 0.9024 %\n",
            "Epoch [18/20], train loss: 0.1980, val loss: 0.2741, val_acc: 0.9094 %\n",
            "Epoch [20/20], train loss: 0.2235, val loss: 0.3457, val_acc: 0.9095 %\n"
          ]
        }
      ],
      "source": [
        "num_epochs = 20\n",
        "valid_loss = [None] * 20\n",
        "training_loss = [None] * 20\n",
        "valid_acc = [None] * 20\n",
        "index = 0\n",
        "for epoch in range(num_epochs):\n",
        "    n_correct_pred = 0\n",
        "    n_samples = 0\n",
        "    for i, (images, labels) in enumerate(train_loader):\n",
        "        images = images.to(device)\n",
        "        labels = labels.to(device)\n",
        "        \n",
        "        outputs = improved_modern_model(images)\n",
        "        loss = lossCriterion(outputs, labels)\n",
        "        \n",
        "        optim3.zero_grad()\n",
        "        loss.backward()\n",
        "        optim3.step()\n",
        "        \n",
        "    with torch.no_grad():\n",
        "        for j, (valImages, valLabels) in enumerate(val_loader):\n",
        "            valImages = valImages.to(device)\n",
        "            valLabels = valLabels.to(device)\n",
        "            outputs = improved_modern_model(valImages)\n",
        "            val_loss = lossCriterion(outputs, valLabels)\n",
        "            _, pred = torch.max(outputs.data, 1)\n",
        "            n_samples += valLabels.size(0)\n",
        "            n_correct_pred += (pred == valLabels).sum().item()\n",
        "    \n",
        "    val_acc = (n_correct_pred / n_samples)\n",
        "    valid_loss[index] = val_loss.item()\n",
        "    training_loss[index] = loss.item()\n",
        "    valid_acc[index] = val_acc\n",
        "    index += 1\n",
        "    if (epoch+1) % 2 == 0:\n",
        "        print(f'Epoch [{epoch+1}/{num_epochs}], train loss: {loss.item():.4f}, val loss: {val_loss.item():.4f}, val_acc: {val_acc:.4f} %')"
      ]
    },
    {
      "cell_type": "code",
      "source": [
        "epochs = [None]*20\n",
        "for i in range(20):\n",
        "  epochs[i] = i+1\n",
        "plt.rcParams[\"figure.figsize\"] = [7.50, 3.50]\n",
        "plt.rcParams[\"figure.autolayout\"] = True\n",
        "\n",
        "plt.title(\"Validation Accuracy/Loss and Training Loss vs No. Epochs\")\n",
        "plt.xlabel(\"Number of epochs\")\n",
        "plt.plot(epochs, valid_acc, label=\"Validation Accuracy\", color=\"red\")\n",
        "plt.plot(epochs, training_loss, label=\"Training Loss\", color=\"purple\")\n",
        "plt.plot(epochs, valid_loss, label=\"Validation Loss\", color=\"Green\")\n",
        "\n",
        "plt.legend()\n",
        "plt.show()"
      ],
      "metadata": {
        "id": "DKJYgxYzjmR4",
        "colab": {
          "base_uri": "https://localhost:8080/",
          "height": 261
        },
        "outputId": "83412f94-eb1c-4911-a2b1-666ab86fa4c1"
      },
      "id": "DKJYgxYzjmR4",
      "execution_count": 24,
      "outputs": [
        {
          "output_type": "display_data",
          "data": {
            "text/plain": [
              "<Figure size 540x252 with 1 Axes>"
            ],
            "image/png": "[encoded data removed]"
          },
          "metadata": {
            "needs_background": "light"
          }
        }
      ]
    },
    {
      "cell_type": "code",
      "execution_count": 25,
      "id": "16d306af",
      "metadata": {
        "id": "16d306af",
        "outputId": "133f138a-ff7c-4fb9-ae2b-09255e572cbc",
        "colab": {
          "base_uri": "https://localhost:8080/",
          "height": 0
        }
      },
      "outputs": [
        {
          "output_type": "stream",
          "name": "stdout",
          "text": [
            "Epoch [2/20], train loss: 0.3810, val loss: 0.4066, val_acc: 0.8594 %\n",
            "Epoch [4/20], train loss: 0.3907, val loss: 0.3934, val_acc: 0.8864 %\n",
            "Epoch [6/20], train loss: 0.2175, val loss: 0.3477, val_acc: 0.8952 %\n",
            "Epoch [8/20], train loss: 0.2690, val loss: 0.3659, val_acc: 0.9029 %\n",
            "Epoch [10/20], train loss: 0.2877, val loss: 0.2854, val_acc: 0.9101 %\n",
            "Epoch [12/20], train loss: 0.1745, val loss: 0.3139, val_acc: 0.9062 %\n",
            "Epoch [14/20], train loss: 0.1975, val loss: 0.2925, val_acc: 0.9096 %\n",
            "Epoch [16/20], train loss: 0.1554, val loss: 0.2377, val_acc: 0.9122 %\n",
            "Epoch [18/20], train loss: 0.1186, val loss: 0.2674, val_acc: 0.9116 %\n",
            "Epoch [20/20], train loss: 0.1337, val loss: 0.3273, val_acc: 0.9025 %\n"
          ]
        }
      ],
      "source": [
        "num_epochs = 20\n",
        "valid_loss = [None] * 20\n",
        "training_loss = [None] * 20\n",
        "valid_acc = [None] * 20\n",
        "index = 0\n",
        "for epoch in range(num_epochs):\n",
        "    n_correct_pred = 0\n",
        "    n_samples = 0\n",
        "    for i, (images, labels) in enumerate(train_loader):\n",
        "        images = images.to(device)\n",
        "        labels = labels.to(device)\n",
        "        \n",
        "        outputs = improved_modern_model2(images)\n",
        "        loss = lossCriterion(outputs, labels)\n",
        "        \n",
        "        optim4.zero_grad()\n",
        "        loss.backward()\n",
        "        optim4.step()\n",
        "        \n",
        "    with torch.no_grad():\n",
        "        for j, (valImages, valLabels) in enumerate(val_loader):\n",
        "            valImages = valImages.to(device)\n",
        "            valLabels = valLabels.to(device)\n",
        "            outputs = improved_modern_model2(valImages)\n",
        "            val_loss = lossCriterion(outputs, valLabels)\n",
        "            _, pred = torch.max(outputs.data, 1)\n",
        "            n_samples += valLabels.size(0)\n",
        "            n_correct_pred += (pred == valLabels).sum().item()\n",
        "    \n",
        "    val_acc = (n_correct_pred / n_samples)\n",
        "    valid_loss[index] = val_loss.item()\n",
        "    training_loss[index] = loss.item()\n",
        "    valid_acc[index] = val_acc\n",
        "    index += 1\n",
        "    if (epoch+1) % 2 == 0:\n",
        "        print(f'Epoch [{epoch+1}/{num_epochs}], train loss: {loss.item():.4f}, val loss: {val_loss.item():.4f}, val_acc: {val_acc:.4f} %')"
      ]
    },
    {
      "cell_type": "code",
      "source": [
        "epochs = [None]*20\n",
        "for i in range(20):\n",
        "  epochs[i] = i+1\n",
        "plt.rcParams[\"figure.figsize\"] = [7.50, 3.50]\n",
        "plt.rcParams[\"figure.autolayout\"] = True\n",
        "\n",
        "plt.title(\"Validation Accuracy/Loss and Training Loss vs No. Epochs\")\n",
        "plt.xlabel(\"Number of epochs\")\n",
        "plt.plot(epochs, valid_acc, label=\"Validation Accuracy\", color=\"red\")\n",
        "plt.plot(epochs, training_loss, label=\"Training Loss\", color=\"purple\")\n",
        "plt.plot(epochs, valid_loss, label=\"Validation Loss\", color=\"Green\")\n",
        "\n",
        "plt.legend()\n",
        "plt.show()"
      ],
      "metadata": {
        "id": "pM-GzntejnVT",
        "colab": {
          "base_uri": "https://localhost:8080/",
          "height": 261
        },
        "outputId": "5020f8ac-df28-466e-a66b-e40043fc1957"
      },
      "id": "pM-GzntejnVT",
      "execution_count": 26,
      "outputs": [
        {
          "output_type": "display_data",
          "data": {
            "text/plain": [
              "<Figure size 540x252 with 1 Axes>"
            ],
            "image/png": "[encoded data removed]"
          },
          "metadata": {
            "needs_background": "light"
          }
        }
      ]
    },
    {
      "cell_type": "code",
      "execution_count": null,
      "id": "f6bcce41",
      "metadata": {
        "id": "f6bcce41",
        "outputId": "7ee038dd-b4e3-41e4-9a90-54626f2b4609"
      },
      "outputs": [
        {
          "name": "stdout",
          "output_type": "stream",
          "text": [
            "Epoch [2/20], train loss: 0.3330, val loss: 0.4105, val_acc: 84.32 %\n",
            "Epoch [4/20], train loss: 0.4486, val loss: 0.3279, val_acc: 86.39 %\n",
            "Epoch [6/20], train loss: 0.2483, val loss: 0.2779, val_acc: 87.76 %\n",
            "Epoch [8/20], train loss: 0.1477, val loss: 0.3296, val_acc: 89.50 %\n",
            "Epoch [10/20], train loss: 0.2757, val loss: 0.3009, val_acc: 89.73 %\n",
            "Epoch [12/20], train loss: 0.1195, val loss: 0.2890, val_acc: 89.98 %\n",
            "Epoch [14/20], train loss: 0.2284, val loss: 0.2472, val_acc: 89.99 %\n",
            "Epoch [16/20], train loss: 0.1174, val loss: 0.2651, val_acc: 90.25 %\n",
            "Epoch [18/20], train loss: 0.1804, val loss: 0.2754, val_acc: 90.45 %\n",
            "Epoch [20/20], train loss: 0.1136, val loss: 0.2591, val_acc: 90.66 %\n"
          ]
        }
      ],
      "source": [
        "num_epochs = 20\n",
        "valid_loss = [None] * 20\n",
        "training_loss = [None] * 20\n",
        "valid_acc = [None] * 20\n",
        "index = 0\n",
        "for epoch in range(num_epochs):\n",
        "    n_correct_pred = 0\n",
        "    n_samples = 0\n",
        "    for i, (images, labels) in enumerate(train_loader):\n",
        "        images = images.to(device)\n",
        "        labels = labels.to(device)\n",
        "        \n",
        "        outputs = improved_modern_model3(images)\n",
        "        loss = lossCriterion(outputs, labels)\n",
        "        \n",
        "        optim5.zero_grad()\n",
        "        loss.backward()\n",
        "        optim5.step()\n",
        "        \n",
        "    with torch.no_grad():\n",
        "        for j, (valImages, valLabels) in enumerate(val_loader):\n",
        "            valImages = valImages.to(device)\n",
        "            valLabels = valLabels.to(device)\n",
        "            outputs = improved_modern_model3(valImages)\n",
        "            val_loss = lossCriterion(outputs, valLabels)\n",
        "            _, pred = torch.max(outputs.data, 1)\n",
        "            n_samples += valLabels.size(0)\n",
        "            n_correct_pred += (pred == valLabels).sum().item()\n",
        "    \n",
        "    val_acc = (n_correct_pred / n_samples)\n",
        "    valid_loss[index] = val_loss.item()\n",
        "    training_loss[index] = loss.item()\n",
        "    valid_acc[index] = val_acc\n",
        "    index += 1\n",
        "    if (epoch+1) % 2 == 0:\n",
        "        print(f'Epoch [{epoch+1}/{num_epochs}], train loss: {loss.item():.4f}, val loss: {val_loss.item():.4f}, val_acc: {val_acc:.4f} %')"
      ]
    },
    {
      "cell_type": "code",
      "source": [
        "epochs = [None]*10\n",
        "for i in range(10):\n",
        "  epochs[i] = i+1\n",
        "plt.rcParams[\"figure.figsize\"] = [7.50, 3.50]\n",
        "plt.rcParams[\"figure.autolayout\"] = True\n",
        "\n",
        "plt.title(\"Validation Accuracy/Loss and Training Loss vs No. Epochs\")\n",
        "plt.xlabel(\"Number of epochs\")\n",
        "plt.plot(epochs, valid_acc, label=\"Validation Accuracy\", color=\"red\")\n",
        "plt.plot(epochs, training_loss, label=\"Training Loss\", color=\"purple\")\n",
        "plt.plot(epochs, valid_loss, label=\"Validation Loss\", color=\"Green\")\n",
        "\n",
        "plt.legend()\n",
        "plt.show()"
      ],
      "metadata": {
        "id": "BysXteMljohg"
      },
      "id": "BysXteMljohg",
      "execution_count": null,
      "outputs": []
    },
    {
      "cell_type": "code",
      "execution_count": null,
      "id": "12464305",
      "metadata": {
        "id": "12464305",
        "outputId": "40977957-f1e7-4bf7-8351-38f801d9fabf"
      },
      "outputs": [
        {
          "name": "stdout",
          "output_type": "stream",
          "text": [
            "Epoch [2/20], train loss: 0.3079, val loss: 0.3729, val_acc: 87.57 %\n",
            "Epoch [4/20], train loss: 0.4120, val loss: 0.3009, val_acc: 88.75 %\n",
            "Epoch [6/20], train loss: 0.1529, val loss: 0.2737, val_acc: 89.85 %\n",
            "Epoch [8/20], train loss: 0.2285, val loss: 0.2645, val_acc: 90.40 %\n",
            "Epoch [10/20], train loss: 0.1514, val loss: 0.2765, val_acc: 90.47 %\n",
            "Epoch [12/20], train loss: 0.1463, val loss: 0.2840, val_acc: 90.83 %\n",
            "Epoch [14/20], train loss: 0.1003, val loss: 0.3296, val_acc: 91.23 %\n",
            "Epoch [16/20], train loss: 0.0318, val loss: 0.2952, val_acc: 91.69 %\n",
            "Epoch [18/20], train loss: 0.1161, val loss: 0.3612, val_acc: 91.19 %\n",
            "Epoch [20/20], train loss: 0.0464, val loss: 0.4069, val_acc: 91.32 %\n"
          ]
        }
      ],
      "source": [
        "num_epochs = 20\n",
        "valid_loss = [None] * 20\n",
        "training_loss = [None] * 20\n",
        "valid_acc = [None] * 20\n",
        "index = 0\n",
        "for epoch in range(num_epochs):\n",
        "    n_correct_pred = 0\n",
        "    n_samples = 0\n",
        "    for i, (images, labels) in enumerate(train_loader):\n",
        "        images = images.to(device)\n",
        "        labels = labels.to(device)\n",
        "        \n",
        "        outputs = improved_modern_model4(images)\n",
        "        loss = lossCriterion(outputs, labels)\n",
        "        \n",
        "        optim6.zero_grad()\n",
        "        loss.backward()\n",
        "        optim6.step()\n",
        "        \n",
        "    with torch.no_grad():\n",
        "        for j, (valImages, valLabels) in enumerate(val_loader):\n",
        "            valImages = valImages.to(device)\n",
        "            valLabels = valLabels.to(device)\n",
        "            outputs = improved_modern_model4(valImages)\n",
        "            val_loss = lossCriterion(outputs, valLabels)\n",
        "            _, pred = torch.max(outputs.data, 1)\n",
        "            n_samples += valLabels.size(0)\n",
        "            n_correct_pred += (pred == valLabels).sum().item()\n",
        "    \n",
        "    val_acc = (n_correct_pred / n_samples)\n",
        "    valid_loss[index] = val_loss.item()\n",
        "    training_loss[index] = loss.item()\n",
        "    valid_acc[index] = val_acc\n",
        "    index += 1\n",
        "    if (epoch+1) % 2 == 0:\n",
        "        print(f'Epoch [{epoch+1}/{num_epochs}], train loss: {loss.item():.4f}, val loss: {val_loss.item():.4f}, val_acc: {val_acc:.4f} %')"
      ]
    },
    {
      "cell_type": "code",
      "source": [
        "epochs = [None]*10\n",
        "for i in range(10):\n",
        "  epochs[i] = i+1\n",
        "plt.rcParams[\"figure.figsize\"] = [7.50, 3.50]\n",
        "plt.rcParams[\"figure.autolayout\"] = True\n",
        "\n",
        "plt.title(\"Validation Accuracy/Loss and Training Loss vs No. Epochs\")\n",
        "plt.xlabel(\"Number of epochs\")\n",
        "plt.plot(epochs, valid_acc, label=\"Validation Accuracy\", color=\"red\")\n",
        "plt.plot(epochs, training_loss, label=\"Training Loss\", color=\"purple\")\n",
        "plt.plot(epochs, valid_loss, label=\"Validation Loss\", color=\"Green\")\n",
        "\n",
        "plt.legend()\n",
        "plt.show()"
      ],
      "metadata": {
        "id": "7iW23aq3jpt1"
      },
      "id": "7iW23aq3jpt1",
      "execution_count": null,
      "outputs": []
    }
  ],
  "metadata": {
    "kernelspec": {
      "display_name": "Python 3 (ipykernel)",
      "language": "python",
      "name": "python3"
    },
    "language_info": {
      "codemirror_mode": {
        "name": "ipython",
        "version": 3
      },
      "file_extension": ".py",
      "mimetype": "text/x-python",
      "name": "python",
      "nbconvert_exporter": "python",
      "pygments_lexer": "ipython3",
      "version": "3.9.12"
    },
    "colab": {
      "provenance": []
    },
    "accelerator": "GPU",
    "gpuClass": "premium",
    "widgets": {
      "application/vnd.jupyter.widget-state+json": {
        "d7161937a60341a7b2d16368a8a41e4e": {
          "model_module": "@jupyter-widgets/controls",
          "model_name": "HBoxModel",
          "model_module_version": "1.5.0",
          "state": {
            "_dom_classes": [],
            "_model_module": "@jupyter-widgets/controls",
            "_model_module_version": "1.5.0",
            "_model_name": "HBoxModel",
            "_view_count": null,
            "_view_module": "@jupyter-widgets/controls",
            "_view_module_version": "1.5.0",
            "_view_name": "HBoxView",
            "box_style": "",
            "children": [
              "IPY_MODEL_fb2d95d5040c4e89826d40f4debdfffd",
              "IPY_MODEL_3cc32ad71cd44c469efda31b023d59c2",
              "IPY_MODEL_b78e1d8350934c948f0d1b284bb15ca4"
            ],
            "layout": "IPY_MODEL_0fdc98553e4a41fea6d3a9b24faff1e2"
          }
        },
        "fb2d95d5040c4e89826d40f4debdfffd": {
          "model_module": "@jupyter-widgets/controls",
          "model_name": "HTMLModel",
          "model_module_version": "1.5.0",
          "state": {
            "_dom_classes": [],
            "_model_module": "@jupyter-widgets/controls",
            "_model_module_version": "1.5.0",
            "_model_name": "HTMLModel",
            "_view_count": null,
            "_view_module": "@jupyter-widgets/controls",
            "_view_module_version": "1.5.0",
            "_view_name": "HTMLView",
            "description": "",
            "description_tooltip": null,
            "layout": "IPY_MODEL_79e46bda50774cfea240eef8e25a8e7f",
            "placeholder": "​",
            "style": "IPY_MODEL_a7bea3860d4c4bc08cc80579d3aa06d5",
            "value": "100%"
          }
        },
        "3cc32ad71cd44c469efda31b023d59c2": {
          "model_module": "@jupyter-widgets/controls",
          "model_name": "FloatProgressModel",
          "model_module_version": "1.5.0",
          "state": {
            "_dom_classes": [],
            "_model_module": "@jupyter-widgets/controls",
            "_model_module_version": "1.5.0",
            "_model_name": "FloatProgressModel",
            "_view_count": null,
            "_view_module": "@jupyter-widgets/controls",
            "_view_module_version": "1.5.0",
            "_view_name": "ProgressView",
            "bar_style": "success",
            "description": "",
            "description_tooltip": null,
            "layout": "IPY_MODEL_49d014a04ef0471e83e5941a44bb23ba",
            "max": 26421880,
            "min": 0,
            "orientation": "horizontal",
            "style": "IPY_MODEL_dd03f18c27684999b6154a092f496a7a",
            "value": 26421880
          }
        },
        "b78e1d8350934c948f0d1b284bb15ca4": {
          "model_module": "@jupyter-widgets/controls",
          "model_name": "HTMLModel",
          "model_module_version": "1.5.0",
          "state": {
            "_dom_classes": [],
            "_model_module": "@jupyter-widgets/controls",
            "_model_module_version": "1.5.0",
            "_model_name": "HTMLModel",
            "_view_count": null,
            "_view_module": "@jupyter-widgets/controls",
            "_view_module_version": "1.5.0",
            "_view_name": "HTMLView",
            "description": "",
            "description_tooltip": null,
            "layout": "IPY_MODEL_953c2a14dbe645a7b0e873833167380a",
            "placeholder": "​",
            "style": "IPY_MODEL_e4166493bd96466eb0e2e95e446f7c50",
            "value": " 26421880/26421880 [00:03&lt;00:00, 14374428.26it/s]"
          }
        },
        "0fdc98553e4a41fea6d3a9b24faff1e2": {
          "model_module": "@jupyter-widgets/base",
          "model_name": "LayoutModel",
          "model_module_version": "1.2.0",
          "state": {
            "_model_module": "@jupyter-widgets/base",
            "_model_module_version": "1.2.0",
            "_model_name": "LayoutModel",
            "_view_count": null,
            "_view_module": "@jupyter-widgets/base",
            "_view_module_version": "1.2.0",
            "_view_name": "LayoutView",
            "align_content": null,
            "align_items": null,
            "align_self": null,
            "border": null,
            "bottom": null,
            "display": null,
            "flex": null,
            "flex_flow": null,
            "grid_area": null,
            "grid_auto_columns": null,
            "grid_auto_flow": null,
            "grid_auto_rows": null,
            "grid_column": null,
            "grid_gap": null,
            "grid_row": null,
            "grid_template_areas": null,
            "grid_template_columns": null,
            "grid_template_rows": null,
            "height": null,
            "justify_content": null,
            "justify_items": null,
            "left": null,
            "margin": null,
            "max_height": null,
            "max_width": null,
            "min_height": null,
            "min_width": null,
            "object_fit": null,
            "object_position": null,
            "order": null,
            "overflow": null,
            "overflow_x": null,
            "overflow_y": null,
            "padding": null,
            "right": null,
            "top": null,
            "visibility": null,
            "width": null
          }
        },
        "79e46bda50774cfea240eef8e25a8e7f": {
          "model_module": "@jupyter-widgets/base",
          "model_name": "LayoutModel",
          "model_module_version": "1.2.0",
          "state": {
            "_model_module": "@jupyter-widgets/base",
            "_model_module_version": "1.2.0",
            "_model_name": "LayoutModel",
            "_view_count": null,
            "_view_module": "@jupyter-widgets/base",
            "_view_module_version": "1.2.0",
            "_view_name": "LayoutView",
            "align_content": null,
            "align_items": null,
            "align_self": null,
            "border": null,
            "bottom": null,
            "display": null,
            "flex": null,
            "flex_flow": null,
            "grid_area": null,
            "grid_auto_columns": null,
            "grid_auto_flow": null,
            "grid_auto_rows": null,
            "grid_column": null,
            "grid_gap": null,
            "grid_row": null,
            "grid_template_areas": null,
            "grid_template_columns": null,
            "grid_template_rows": null,
            "height": null,
            "justify_content": null,
            "justify_items": null,
            "left": null,
            "margin": null,
            "max_height": null,
            "max_width": null,
            "min_height": null,
            "min_width": null,
            "object_fit": null,
            "object_position": null,
            "order": null,
            "overflow": null,
            "overflow_x": null,
            "overflow_y": null,
            "padding": null,
            "right": null,
            "top": null,
            "visibility": null,
            "width": null
          }
        },
        "a7bea3860d4c4bc08cc80579d3aa06d5": {
          "model_module": "@jupyter-widgets/controls",
          "model_name": "DescriptionStyleModel",
          "model_module_version": "1.5.0",
          "state": {
            "_model_module": "@jupyter-widgets/controls",
            "_model_module_version": "1.5.0",
            "_model_name": "DescriptionStyleModel",
            "_view_count": null,
            "_view_module": "@jupyter-widgets/base",
            "_view_module_version": "1.2.0",
            "_view_name": "StyleView",
            "description_width": ""
          }
        },
        "49d014a04ef0471e83e5941a44bb23ba": {
          "model_module": "@jupyter-widgets/base",
          "model_name": "LayoutModel",
          "model_module_version": "1.2.0",
          "state": {
            "_model_module": "@jupyter-widgets/base",
            "_model_module_version": "1.2.0",
            "_model_name": "LayoutModel",
            "_view_count": null,
            "_view_module": "@jupyter-widgets/base",
            "_view_module_version": "1.2.0",
            "_view_name": "LayoutView",
            "align_content": null,
            "align_items": null,
            "align_self": null,
            "border": null,
            "bottom": null,
            "display": null,
            "flex": null,
            "flex_flow": null,
            "grid_area": null,
            "grid_auto_columns": null,
            "grid_auto_flow": null,
            "grid_auto_rows": null,
            "grid_column": null,
            "grid_gap": null,
            "grid_row": null,
            "grid_template_areas": null,
            "grid_template_columns": null,
            "grid_template_rows": null,
            "height": null,
            "justify_content": null,
            "justify_items": null,
            "left": null,
            "margin": null,
            "max_height": null,
            "max_width": null,
            "min_height": null,
            "min_width": null,
            "object_fit": null,
            "object_position": null,
            "order": null,
            "overflow": null,
            "overflow_x": null,
            "overflow_y": null,
            "padding": null,
            "right": null,
            "top": null,
            "visibility": null,
            "width": null
          }
        },
        "dd03f18c27684999b6154a092f496a7a": {
          "model_module": "@jupyter-widgets/controls",
          "model_name": "ProgressStyleModel",
          "model_module_version": "1.5.0",
          "state": {
            "_model_module": "@jupyter-widgets/controls",
            "_model_module_version": "1.5.0",
            "_model_name": "ProgressStyleModel",
            "_view_count": null,
            "_view_module": "@jupyter-widgets/base",
            "_view_module_version": "1.2.0",
            "_view_name": "StyleView",
            "bar_color": null,
            "description_width": ""
          }
        },
        "953c2a14dbe645a7b0e873833167380a": {
          "model_module": "@jupyter-widgets/base",
          "model_name": "LayoutModel",
          "model_module_version": "1.2.0",
          "state": {
            "_model_module": "@jupyter-widgets/base",
            "_model_module_version": "1.2.0",
            "_model_name": "LayoutModel",
            "_view_count": null,
            "_view_module": "@jupyter-widgets/base",
            "_view_module_version": "1.2.0",
            "_view_name": "LayoutView",
            "align_content": null,
            "align_items": null,
            "align_self": null,
            "border": null,
            "bottom": null,
            "display": null,
            "flex": null,
            "flex_flow": null,
            "grid_area": null,
            "grid_auto_columns": null,
            "grid_auto_flow": null,
            "grid_auto_rows": null,
            "grid_column": null,
            "grid_gap": null,
            "grid_row": null,
            "grid_template_areas": null,
            "grid_template_columns": null,
            "grid_template_rows": null,
            "height": null,
            "justify_content": null,
            "justify_items": null,
            "left": null,
            "margin": null,
            "max_height": null,
            "max_width": null,
            "min_height": null,
            "min_width": null,
            "object_fit": null,
            "object_position": null,
            "order": null,
            "overflow": null,
            "overflow_x": null,
            "overflow_y": null,
            "padding": null,
            "right": null,
            "top": null,
            "visibility": null,
            "width": null
          }
        },
        "e4166493bd96466eb0e2e95e446f7c50": {
          "model_module": "@jupyter-widgets/controls",
          "model_name": "DescriptionStyleModel",
          "model_module_version": "1.5.0",
          "state": {
            "_model_module": "@jupyter-widgets/controls",
            "_model_module_version": "1.5.0",
            "_model_name": "DescriptionStyleModel",
            "_view_count": null,
            "_view_module": "@jupyter-widgets/base",
            "_view_module_version": "1.2.0",
            "_view_name": "StyleView",
            "description_width": ""
          }
        },
        "0e766240af934bdf98c5f272d95033d6": {
          "model_module": "@jupyter-widgets/controls",
          "model_name": "HBoxModel",
          "model_module_version": "1.5.0",
          "state": {
            "_dom_classes": [],
            "_model_module": "@jupyter-widgets/controls",
            "_model_module_version": "1.5.0",
            "_model_name": "HBoxModel",
            "_view_count": null,
            "_view_module": "@jupyter-widgets/controls",
            "_view_module_version": "1.5.0",
            "_view_name": "HBoxView",
            "box_style": "",
            "children": [
              "IPY_MODEL_ae676f7f6c5d4aefa02f3ce04f3c5081",
              "IPY_MODEL_ad20b6aa63f44ebd86dafc4e467c1908",
              "IPY_MODEL_9b0ac93f1b6646318c2e1711bc2ebc52"
            ],
            "layout": "IPY_MODEL_b1f44d0ff33c406eb58116ae6d63e799"
          }
        },
        "ae676f7f6c5d4aefa02f3ce04f3c5081": {
          "model_module": "@jupyter-widgets/controls",
          "model_name": "HTMLModel",
          "model_module_version": "1.5.0",
          "state": {
            "_dom_classes": [],
            "_model_module": "@jupyter-widgets/controls",
            "_model_module_version": "1.5.0",
            "_model_name": "HTMLModel",
            "_view_count": null,
            "_view_module": "@jupyter-widgets/controls",
            "_view_module_version": "1.5.0",
            "_view_name": "HTMLView",
            "description": "",
            "description_tooltip": null,
            "layout": "IPY_MODEL_28bfe1b3023a46ad9d8a602eef6f9e03",
            "placeholder": "​",
            "style": "IPY_MODEL_da66b2cbaa2d4a6b88bbb70ababf9df5",
            "value": "100%"
          }
        },
        "ad20b6aa63f44ebd86dafc4e467c1908": {
          "model_module": "@jupyter-widgets/controls",
          "model_name": "FloatProgressModel",
          "model_module_version": "1.5.0",
          "state": {
            "_dom_classes": [],
            "_model_module": "@jupyter-widgets/controls",
            "_model_module_version": "1.5.0",
            "_model_name": "FloatProgressModel",
            "_view_count": null,
            "_view_module": "@jupyter-widgets/controls",
            "_view_module_version": "1.5.0",
            "_view_name": "ProgressView",
            "bar_style": "success",
            "description": "",
            "description_tooltip": null,
            "layout": "IPY_MODEL_ecf3082bd7c240c686a519b27b54f088",
            "max": 29515,
            "min": 0,
            "orientation": "horizontal",
            "style": "IPY_MODEL_be839a8e650f430597f5b3f60034e19e",
            "value": 29515
          }
        },
        "9b0ac93f1b6646318c2e1711bc2ebc52": {
          "model_module": "@jupyter-widgets/controls",
          "model_name": "HTMLModel",
          "model_module_version": "1.5.0",
          "state": {
            "_dom_classes": [],
            "_model_module": "@jupyter-widgets/controls",
            "_model_module_version": "1.5.0",
            "_model_name": "HTMLModel",
            "_view_count": null,
            "_view_module": "@jupyter-widgets/controls",
            "_view_module_version": "1.5.0",
            "_view_name": "HTMLView",
            "description": "",
            "description_tooltip": null,
            "layout": "IPY_MODEL_c3ff6b8d3052490980582ad9dfce587d",
            "placeholder": "​",
            "style": "IPY_MODEL_689cf9fc476245faaaf1f68ad0fa0943",
            "value": " 29515/29515 [00:00&lt;00:00, 146858.76it/s]"
          }
        },
        "b1f44d0ff33c406eb58116ae6d63e799": {
          "model_module": "@jupyter-widgets/base",
          "model_name": "LayoutModel",
          "model_module_version": "1.2.0",
          "state": {
            "_model_module": "@jupyter-widgets/base",
            "_model_module_version": "1.2.0",
            "_model_name": "LayoutModel",
            "_view_count": null,
            "_view_module": "@jupyter-widgets/base",
            "_view_module_version": "1.2.0",
            "_view_name": "LayoutView",
            "align_content": null,
            "align_items": null,
            "align_self": null,
            "border": null,
            "bottom": null,
            "display": null,
            "flex": null,
            "flex_flow": null,
            "grid_area": null,
            "grid_auto_columns": null,
            "grid_auto_flow": null,
            "grid_auto_rows": null,
            "grid_column": null,
            "grid_gap": null,
            "grid_row": null,
            "grid_template_areas": null,
            "grid_template_columns": null,
            "grid_template_rows": null,
            "height": null,
            "justify_content": null,
            "justify_items": null,
            "left": null,
            "margin": null,
            "max_height": null,
            "max_width": null,
            "min_height": null,
            "min_width": null,
            "object_fit": null,
            "object_position": null,
            "order": null,
            "overflow": null,
            "overflow_x": null,
            "overflow_y": null,
            "padding": null,
            "right": null,
            "top": null,
            "visibility": null,
            "width": null
          }
        },
        "28bfe1b3023a46ad9d8a602eef6f9e03": {
          "model_module": "@jupyter-widgets/base",
          "model_name": "LayoutModel",
          "model_module_version": "1.2.0",
          "state": {
            "_model_module": "@jupyter-widgets/base",
            "_model_module_version": "1.2.0",
            "_model_name": "LayoutModel",
            "_view_count": null,
            "_view_module": "@jupyter-widgets/base",
            "_view_module_version": "1.2.0",
            "_view_name": "LayoutView",
            "align_content": null,
            "align_items": null,
            "align_self": null,
            "border": null,
            "bottom": null,
            "display": null,
            "flex": null,
            "flex_flow": null,
            "grid_area": null,
            "grid_auto_columns": null,
            "grid_auto_flow": null,
            "grid_auto_rows": null,
            "grid_column": null,
            "grid_gap": null,
            "grid_row": null,
            "grid_template_areas": null,
            "grid_template_columns": null,
            "grid_template_rows": null,
            "height": null,
            "justify_content": null,
            "justify_items": null,
            "left": null,
            "margin": null,
            "max_height": null,
            "max_width": null,
            "min_height": null,
            "min_width": null,
            "object_fit": null,
            "object_position": null,
            "order": null,
            "overflow": null,
            "overflow_x": null,
            "overflow_y": null,
            "padding": null,
            "right": null,
            "top": null,
            "visibility": null,
            "width": null
          }
        },
        "da66b2cbaa2d4a6b88bbb70ababf9df5": {
          "model_module": "@jupyter-widgets/controls",
          "model_name": "DescriptionStyleModel",
          "model_module_version": "1.5.0",
          "state": {
            "_model_module": "@jupyter-widgets/controls",
            "_model_module_version": "1.5.0",
            "_model_name": "DescriptionStyleModel",
            "_view_count": null,
            "_view_module": "@jupyter-widgets/base",
            "_view_module_version": "1.2.0",
            "_view_name": "StyleView",
            "description_width": ""
          }
        },
        "ecf3082bd7c240c686a519b27b54f088": {
          "model_module": "@jupyter-widgets/base",
          "model_name": "LayoutModel",
          "model_module_version": "1.2.0",
          "state": {
            "_model_module": "@jupyter-widgets/base",
            "_model_module_version": "1.2.0",
            "_model_name": "LayoutModel",
            "_view_count": null,
            "_view_module": "@jupyter-widgets/base",
            "_view_module_version": "1.2.0",
            "_view_name": "LayoutView",
            "align_content": null,
            "align_items": null,
            "align_self": null,
            "border": null,
            "bottom": null,
            "display": null,
            "flex": null,
            "flex_flow": null,
            "grid_area": null,
            "grid_auto_columns": null,
            "grid_auto_flow": null,
            "grid_auto_rows": null,
            "grid_column": null,
            "grid_gap": null,
            "grid_row": null,
            "grid_template_areas": null,
            "grid_template_columns": null,
            "grid_template_rows": null,
            "height": null,
            "justify_content": null,
            "justify_items": null,
            "left": null,
            "margin": null,
            "max_height": null,
            "max_width": null,
            "min_height": null,
            "min_width": null,
            "object_fit": null,
            "object_position": null,
            "order": null,
            "overflow": null,
            "overflow_x": null,
            "overflow_y": null,
            "padding": null,
            "right": null,
            "top": null,
            "visibility": null,
            "width": null
          }
        },
        "be839a8e650f430597f5b3f60034e19e": {
          "model_module": "@jupyter-widgets/controls",
          "model_name": "ProgressStyleModel",
          "model_module_version": "1.5.0",
          "state": {
            "_model_module": "@jupyter-widgets/controls",
            "_model_module_version": "1.5.0",
            "_model_name": "ProgressStyleModel",
            "_view_count": null,
            "_view_module": "@jupyter-widgets/base",
            "_view_module_version": "1.2.0",
            "_view_name": "StyleView",
            "bar_color": null,
            "description_width": ""
          }
        },
        "c3ff6b8d3052490980582ad9dfce587d": {
          "model_module": "@jupyter-widgets/base",
          "model_name": "LayoutModel",
          "model_module_version": "1.2.0",
          "state": {
            "_model_module": "@jupyter-widgets/base",
            "_model_module_version": "1.2.0",
            "_model_name": "LayoutModel",
            "_view_count": null,
            "_view_module": "@jupyter-widgets/base",
            "_view_module_version": "1.2.0",
            "_view_name": "LayoutView",
            "align_content": null,
            "align_items": null,
            "align_self": null,
            "border": null,
            "bottom": null,
            "display": null,
            "flex": null,
            "flex_flow": null,
            "grid_area": null,
            "grid_auto_columns": null,
            "grid_auto_flow": null,
            "grid_auto_rows": null,
            "grid_column": null,
            "grid_gap": null,
            "grid_row": null,
            "grid_template_areas": null,
            "grid_template_columns": null,
            "grid_template_rows": null,
            "height": null,
            "justify_content": null,
            "justify_items": null,
            "left": null,
            "margin": null,
            "max_height": null,
            "max_width": null,
            "min_height": null,
            "min_width": null,
            "object_fit": null,
            "object_position": null,
            "order": null,
            "overflow": null,
            "overflow_x": null,
            "overflow_y": null,
            "padding": null,
            "right": null,
            "top": null,
            "visibility": null,
            "width": null
          }
        },
        "689cf9fc476245faaaf1f68ad0fa0943": {
          "model_module": "@jupyter-widgets/controls",
          "model_name": "DescriptionStyleModel",
          "model_module_version": "1.5.0",
          "state": {
            "_model_module": "@jupyter-widgets/controls",
            "_model_module_version": "1.5.0",
            "_model_name": "DescriptionStyleModel",
            "_view_count": null,
            "_view_module": "@jupyter-widgets/base",
            "_view_module_version": "1.2.0",
            "_view_name": "StyleView",
            "description_width": ""
          }
        },
        "b5f95b2656aa446781123d19ba6d14ea": {
          "model_module": "@jupyter-widgets/controls",
          "model_name": "HBoxModel",
          "model_module_version": "1.5.0",
          "state": {
            "_dom_classes": [],
            "_model_module": "@jupyter-widgets/controls",
            "_model_module_version": "1.5.0",
            "_model_name": "HBoxModel",
            "_view_count": null,
            "_view_module": "@jupyter-widgets/controls",
            "_view_module_version": "1.5.0",
            "_view_name": "HBoxView",
            "box_style": "",
            "children": [
              "IPY_MODEL_415568d0c3b84b018b276302d8da2a31",
              "IPY_MODEL_ab599f2e02d74d1b958e0670ac5d7ded",
              "IPY_MODEL_5a5b741bb0a849cb9aed89ae2310a30a"
            ],
            "layout": "IPY_MODEL_d064895afcd6462d9da00b6a1b9ddb3a"
          }
        },
        "415568d0c3b84b018b276302d8da2a31": {
          "model_module": "@jupyter-widgets/controls",
          "model_name": "HTMLModel",
          "model_module_version": "1.5.0",
          "state": {
            "_dom_classes": [],
            "_model_module": "@jupyter-widgets/controls",
            "_model_module_version": "1.5.0",
            "_model_name": "HTMLModel",
            "_view_count": null,
            "_view_module": "@jupyter-widgets/controls",
            "_view_module_version": "1.5.0",
            "_view_name": "HTMLView",
            "description": "",
            "description_tooltip": null,
            "layout": "IPY_MODEL_0da9d25472d04206932f4500915f0ed6",
            "placeholder": "​",
            "style": "IPY_MODEL_966ce4e5e6c64ce29d95f286771686b4",
            "value": "100%"
          }
        },
        "ab599f2e02d74d1b958e0670ac5d7ded": {
          "model_module": "@jupyter-widgets/controls",
          "model_name": "FloatProgressModel",
          "model_module_version": "1.5.0",
          "state": {
            "_dom_classes": [],
            "_model_module": "@jupyter-widgets/controls",
            "_model_module_version": "1.5.0",
            "_model_name": "FloatProgressModel",
            "_view_count": null,
            "_view_module": "@jupyter-widgets/controls",
            "_view_module_version": "1.5.0",
            "_view_name": "ProgressView",
            "bar_style": "success",
            "description": "",
            "description_tooltip": null,
            "layout": "IPY_MODEL_0647244a2ae4434ab863209d90497b9f",
            "max": 4422102,
            "min": 0,
            "orientation": "horizontal",
            "style": "IPY_MODEL_59e5c164319441b9b1dddbc3fb34772c",
            "value": 4422102
          }
        },
        "5a5b741bb0a849cb9aed89ae2310a30a": {
          "model_module": "@jupyter-widgets/controls",
          "model_name": "HTMLModel",
          "model_module_version": "1.5.0",
          "state": {
            "_dom_classes": [],
            "_model_module": "@jupyter-widgets/controls",
            "_model_module_version": "1.5.0",
            "_model_name": "HTMLModel",
            "_view_count": null,
            "_view_module": "@jupyter-widgets/controls",
            "_view_module_version": "1.5.0",
            "_view_name": "HTMLView",
            "description": "",
            "description_tooltip": null,
            "layout": "IPY_MODEL_87d0514f76454216afa928b3f537cf93",
            "placeholder": "​",
            "style": "IPY_MODEL_a31d6ff6b51b4bedbe7374f73f16e62a",
            "value": " 4422102/4422102 [00:01&lt;00:00, 4545038.49it/s]"
          }
        },
        "d064895afcd6462d9da00b6a1b9ddb3a": {
          "model_module": "@jupyter-widgets/base",
          "model_name": "LayoutModel",
          "model_module_version": "1.2.0",
          "state": {
            "_model_module": "@jupyter-widgets/base",
            "_model_module_version": "1.2.0",
            "_model_name": "LayoutModel",
            "_view_count": null,
            "_view_module": "@jupyter-widgets/base",
            "_view_module_version": "1.2.0",
            "_view_name": "LayoutView",
            "align_content": null,
            "align_items": null,
            "align_self": null,
            "border": null,
            "bottom": null,
            "display": null,
            "flex": null,
            "flex_flow": null,
            "grid_area": null,
            "grid_auto_columns": null,
            "grid_auto_flow": null,
            "grid_auto_rows": null,
            "grid_column": null,
            "grid_gap": null,
            "grid_row": null,
            "grid_template_areas": null,
            "grid_template_columns": null,
            "grid_template_rows": null,
            "height": null,
            "justify_content": null,
            "justify_items": null,
            "left": null,
            "margin": null,
            "max_height": null,
            "max_width": null,
            "min_height": null,
            "min_width": null,
            "object_fit": null,
            "object_position": null,
            "order": null,
            "overflow": null,
            "overflow_x": null,
            "overflow_y": null,
            "padding": null,
            "right": null,
            "top": null,
            "visibility": null,
            "width": null
          }
        },
        "0da9d25472d04206932f4500915f0ed6": {
          "model_module": "@jupyter-widgets/base",
          "model_name": "LayoutModel",
          "model_module_version": "1.2.0",
          "state": {
            "_model_module": "@jupyter-widgets/base",
            "_model_module_version": "1.2.0",
            "_model_name": "LayoutModel",
            "_view_count": null,
            "_view_module": "@jupyter-widgets/base",
            "_view_module_version": "1.2.0",
            "_view_name": "LayoutView",
            "align_content": null,
            "align_items": null,
            "align_self": null,
            "border": null,
            "bottom": null,
            "display": null,
            "flex": null,
            "flex_flow": null,
            "grid_area": null,
            "grid_auto_columns": null,
            "grid_auto_flow": null,
            "grid_auto_rows": null,
            "grid_column": null,
            "grid_gap": null,
            "grid_row": null,
            "grid_template_areas": null,
            "grid_template_columns": null,
            "grid_template_rows": null,
            "height": null,
            "justify_content": null,
            "justify_items": null,
            "left": null,
            "margin": null,
            "max_height": null,
            "max_width": null,
            "min_height": null,
            "min_width": null,
            "object_fit": null,
            "object_position": null,
            "order": null,
            "overflow": null,
            "overflow_x": null,
            "overflow_y": null,
            "padding": null,
            "right": null,
            "top": null,
            "visibility": null,
            "width": null
          }
        },
        "966ce4e5e6c64ce29d95f286771686b4": {
          "model_module": "@jupyter-widgets/controls",
          "model_name": "DescriptionStyleModel",
          "model_module_version": "1.5.0",
          "state": {
            "_model_module": "@jupyter-widgets/controls",
            "_model_module_version": "1.5.0",
            "_model_name": "DescriptionStyleModel",
            "_view_count": null,
            "_view_module": "@jupyter-widgets/base",
            "_view_module_version": "1.2.0",
            "_view_name": "StyleView",
            "description_width": ""
          }
        },
        "0647244a2ae4434ab863209d90497b9f": {
          "model_module": "@jupyter-widgets/base",
          "model_name": "LayoutModel",
          "model_module_version": "1.2.0",
          "state": {
            "_model_module": "@jupyter-widgets/base",
            "_model_module_version": "1.2.0",
            "_model_name": "LayoutModel",
            "_view_count": null,
            "_view_module": "@jupyter-widgets/base",
            "_view_module_version": "1.2.0",
            "_view_name": "LayoutView",
            "align_content": null,
            "align_items": null,
            "align_self": null,
            "border": null,
            "bottom": null,
            "display": null,
            "flex": null,
            "flex_flow": null,
            "grid_area": null,
            "grid_auto_columns": null,
            "grid_auto_flow": null,
            "grid_auto_rows": null,
            "grid_column": null,
            "grid_gap": null,
            "grid_row": null,
            "grid_template_areas": null,
            "grid_template_columns": null,
            "grid_template_rows": null,
            "height": null,
            "justify_content": null,
            "justify_items": null,
            "left": null,
            "margin": null,
            "max_height": null,
            "max_width": null,
            "min_height": null,
            "min_width": null,
            "object_fit": null,
            "object_position": null,
            "order": null,
            "overflow": null,
            "overflow_x": null,
            "overflow_y": null,
            "padding": null,
            "right": null,
            "top": null,
            "visibility": null,
            "width": null
          }
        },
        "59e5c164319441b9b1dddbc3fb34772c": {
          "model_module": "@jupyter-widgets/controls",
          "model_name": "ProgressStyleModel",
          "model_module_version": "1.5.0",
          "state": {
            "_model_module": "@jupyter-widgets/controls",
            "_model_module_version": "1.5.0",
            "_model_name": "ProgressStyleModel",
            "_view_count": null,
            "_view_module": "@jupyter-widgets/base",
            "_view_module_version": "1.2.0",
            "_view_name": "StyleView",
            "bar_color": null,
            "description_width": ""
          }
        },
        "87d0514f76454216afa928b3f537cf93": {
          "model_module": "@jupyter-widgets/base",
          "model_name": "LayoutModel",
          "model_module_version": "1.2.0",
          "state": {
            "_model_module": "@jupyter-widgets/base",
            "_model_module_version": "1.2.0",
            "_model_name": "LayoutModel",
            "_view_count": null,
            "_view_module": "@jupyter-widgets/base",
            "_view_module_version": "1.2.0",
            "_view_name": "LayoutView",
            "align_content": null,
            "align_items": null,
            "align_self": null,
            "border": null,
            "bottom": null,
            "display": null,
            "flex": null,
            "flex_flow": null,
            "grid_area": null,
            "grid_auto_columns": null,
            "grid_auto_flow": null,
            "grid_auto_rows": null,
            "grid_column": null,
            "grid_gap": null,
            "grid_row": null,
            "grid_template_areas": null,
            "grid_template_columns": null,
            "grid_template_rows": null,
            "height": null,
            "justify_content": null,
            "justify_items": null,
            "left": null,
            "margin": null,
            "max_height": null,
            "max_width": null,
            "min_height": null,
            "min_width": null,
            "object_fit": null,
            "object_position": null,
            "order": null,
            "overflow": null,
            "overflow_x": null,
            "overflow_y": null,
            "padding": null,
            "right": null,
            "top": null,
            "visibility": null,
            "width": null
          }
        },
        "a31d6ff6b51b4bedbe7374f73f16e62a": {
          "model_module": "@jupyter-widgets/controls",
          "model_name": "DescriptionStyleModel",
          "model_module_version": "1.5.0",
          "state": {
            "_model_module": "@jupyter-widgets/controls",
            "_model_module_version": "1.5.0",
            "_model_name": "DescriptionStyleModel",
            "_view_count": null,
            "_view_module": "@jupyter-widgets/base",
            "_view_module_version": "1.2.0",
            "_view_name": "StyleView",
            "description_width": ""
          }
        },
        "89fe7d7031e24f8dbafb689081cdc7be": {
          "model_module": "@jupyter-widgets/controls",
          "model_name": "HBoxModel",
          "model_module_version": "1.5.0",
          "state": {
            "_dom_classes": [],
            "_model_module": "@jupyter-widgets/controls",
            "_model_module_version": "1.5.0",
            "_model_name": "HBoxModel",
            "_view_count": null,
            "_view_module": "@jupyter-widgets/controls",
            "_view_module_version": "1.5.0",
            "_view_name": "HBoxView",
            "box_style": "",
            "children": [
              "IPY_MODEL_737666573845459dafae26c649cc7e8b",
              "IPY_MODEL_cdc1c7491f574cdf9157c31ad1f500e5",
              "IPY_MODEL_919cf6f33f39455b9c95741deb9b772c"
            ],
            "layout": "IPY_MODEL_d6574164f49147d8ae8d1d2c4f9736e9"
          }
        },
        "737666573845459dafae26c649cc7e8b": {
          "model_module": "@jupyter-widgets/controls",
          "model_name": "HTMLModel",
          "model_module_version": "1.5.0",
          "state": {
            "_dom_classes": [],
            "_model_module": "@jupyter-widgets/controls",
            "_model_module_version": "1.5.0",
            "_model_name": "HTMLModel",
            "_view_count": null,
            "_view_module": "@jupyter-widgets/controls",
            "_view_module_version": "1.5.0",
            "_view_name": "HTMLView",
            "description": "",
            "description_tooltip": null,
            "layout": "IPY_MODEL_29f157197fde4c0289f106ea70e5723e",
            "placeholder": "​",
            "style": "IPY_MODEL_e4a11b38be0c4380844b943b0acc9f79",
            "value": "100%"
          }
        },
        "cdc1c7491f574cdf9157c31ad1f500e5": {
          "model_module": "@jupyter-widgets/controls",
          "model_name": "FloatProgressModel",
          "model_module_version": "1.5.0",
          "state": {
            "_dom_classes": [],
            "_model_module": "@jupyter-widgets/controls",
            "_model_module_version": "1.5.0",
            "_model_name": "FloatProgressModel",
            "_view_count": null,
            "_view_module": "@jupyter-widgets/controls",
            "_view_module_version": "1.5.0",
            "_view_name": "ProgressView",
            "bar_style": "success",
            "description": "",
            "description_tooltip": null,
            "layout": "IPY_MODEL_bb1b31fcc55443378f3033bf9d3d397d",
            "max": 5148,
            "min": 0,
            "orientation": "horizontal",
            "style": "IPY_MODEL_e76d162f6bac4135afd0bcd908682876",
            "value": 5148
          }
        },
        "919cf6f33f39455b9c95741deb9b772c": {
          "model_module": "@jupyter-widgets/controls",
          "model_name": "HTMLModel",
          "model_module_version": "1.5.0",
          "state": {
            "_dom_classes": [],
            "_model_module": "@jupyter-widgets/controls",
            "_model_module_version": "1.5.0",
            "_model_name": "HTMLModel",
            "_view_count": null,
            "_view_module": "@jupyter-widgets/controls",
            "_view_module_version": "1.5.0",
            "_view_name": "HTMLView",
            "description": "",
            "description_tooltip": null,
            "layout": "IPY_MODEL_b2ad96a30b2c4bc4baf494b25ccc8d8e",
            "placeholder": "​",
            "style": "IPY_MODEL_f3e23fe6d9134aac920041aba9b2c446",
            "value": " 5148/5148 [00:00&lt;00:00, 201304.07it/s]"
          }
        },
        "d6574164f49147d8ae8d1d2c4f9736e9": {
          "model_module": "@jupyter-widgets/base",
          "model_name": "LayoutModel",
          "model_module_version": "1.2.0",
          "state": {
            "_model_module": "@jupyter-widgets/base",
            "_model_module_version": "1.2.0",
            "_model_name": "LayoutModel",
            "_view_count": null,
            "_view_module": "@jupyter-widgets/base",
            "_view_module_version": "1.2.0",
            "_view_name": "LayoutView",
            "align_content": null,
            "align_items": null,
            "align_self": null,
            "border": null,
            "bottom": null,
            "display": null,
            "flex": null,
            "flex_flow": null,
            "grid_area": null,
            "grid_auto_columns": null,
            "grid_auto_flow": null,
            "grid_auto_rows": null,
            "grid_column": null,
            "grid_gap": null,
            "grid_row": null,
            "grid_template_areas": null,
            "grid_template_columns": null,
            "grid_template_rows": null,
            "height": null,
            "justify_content": null,
            "justify_items": null,
            "left": null,
            "margin": null,
            "max_height": null,
            "max_width": null,
            "min_height": null,
            "min_width": null,
            "object_fit": null,
            "object_position": null,
            "order": null,
            "overflow": null,
            "overflow_x": null,
            "overflow_y": null,
            "padding": null,
            "right": null,
            "top": null,
            "visibility": null,
            "width": null
          }
        },
        "29f157197fde4c0289f106ea70e5723e": {
          "model_module": "@jupyter-widgets/base",
          "model_name": "LayoutModel",
          "model_module_version": "1.2.0",
          "state": {
            "_model_module": "@jupyter-widgets/base",
            "_model_module_version": "1.2.0",
            "_model_name": "LayoutModel",
            "_view_count": null,
            "_view_module": "@jupyter-widgets/base",
            "_view_module_version": "1.2.0",
            "_view_name": "LayoutView",
            "align_content": null,
            "align_items": null,
            "align_self": null,
            "border": null,
            "bottom": null,
            "display": null,
            "flex": null,
            "flex_flow": null,
            "grid_area": null,
            "grid_auto_columns": null,
            "grid_auto_flow": null,
            "grid_auto_rows": null,
            "grid_column": null,
            "grid_gap": null,
            "grid_row": null,
            "grid_template_areas": null,
            "grid_template_columns": null,
            "grid_template_rows": null,
            "height": null,
            "justify_content": null,
            "justify_items": null,
            "left": null,
            "margin": null,
            "max_height": null,
            "max_width": null,
            "min_height": null,
            "min_width": null,
            "object_fit": null,
            "object_position": null,
            "order": null,
            "overflow": null,
            "overflow_x": null,
            "overflow_y": null,
            "padding": null,
            "right": null,
            "top": null,
            "visibility": null,
            "width": null
          }
        },
        "e4a11b38be0c4380844b943b0acc9f79": {
          "model_module": "@jupyter-widgets/controls",
          "model_name": "DescriptionStyleModel",
          "model_module_version": "1.5.0",
          "state": {
            "_model_module": "@jupyter-widgets/controls",
            "_model_module_version": "1.5.0",
            "_model_name": "DescriptionStyleModel",
            "_view_count": null,
            "_view_module": "@jupyter-widgets/base",
            "_view_module_version": "1.2.0",
            "_view_name": "StyleView",
            "description_width": ""
          }
        },
        "bb1b31fcc55443378f3033bf9d3d397d": {
          "model_module": "@jupyter-widgets/base",
          "model_name": "LayoutModel",
          "model_module_version": "1.2.0",
          "state": {
            "_model_module": "@jupyter-widgets/base",
            "_model_module_version": "1.2.0",
            "_model_name": "LayoutModel",
            "_view_count": null,
            "_view_module": "@jupyter-widgets/base",
            "_view_module_version": "1.2.0",
            "_view_name": "LayoutView",
            "align_content": null,
            "align_items": null,
            "align_self": null,
            "border": null,
            "bottom": null,
            "display": null,
            "flex": null,
            "flex_flow": null,
            "grid_area": null,
            "grid_auto_columns": null,
            "grid_auto_flow": null,
            "grid_auto_rows": null,
            "grid_column": null,
            "grid_gap": null,
            "grid_row": null,
            "grid_template_areas": null,
            "grid_template_columns": null,
            "grid_template_rows": null,
            "height": null,
            "justify_content": null,
            "justify_items": null,
            "left": null,
            "margin": null,
            "max_height": null,
            "max_width": null,
            "min_height": null,
            "min_width": null,
            "object_fit": null,
            "object_position": null,
            "order": null,
            "overflow": null,
            "overflow_x": null,
            "overflow_y": null,
            "padding": null,
            "right": null,
            "top": null,
            "visibility": null,
            "width": null
          }
        },
        "e76d162f6bac4135afd0bcd908682876": {
          "model_module": "@jupyter-widgets/controls",
          "model_name": "ProgressStyleModel",
          "model_module_version": "1.5.0",
          "state": {
            "_model_module": "@jupyter-widgets/controls",
            "_model_module_version": "1.5.0",
            "_model_name": "ProgressStyleModel",
            "_view_count": null,
            "_view_module": "@jupyter-widgets/base",
            "_view_module_version": "1.2.0",
            "_view_name": "StyleView",
            "bar_color": null,
            "description_width": ""
          }
        },
        "b2ad96a30b2c4bc4baf494b25ccc8d8e": {
          "model_module": "@jupyter-widgets/base",
          "model_name": "LayoutModel",
          "model_module_version": "1.2.0",
          "state": {
            "_model_module": "@jupyter-widgets/base",
            "_model_module_version": "1.2.0",
            "_model_name": "LayoutModel",
            "_view_count": null,
            "_view_module": "@jupyter-widgets/base",
            "_view_module_version": "1.2.0",
            "_view_name": "LayoutView",
            "align_content": null,
            "align_items": null,
            "align_self": null,
            "border": null,
            "bottom": null,
            "display": null,
            "flex": null,
            "flex_flow": null,
            "grid_area": null,
            "grid_auto_columns": null,
            "grid_auto_flow": null,
            "grid_auto_rows": null,
            "grid_column": null,
            "grid_gap": null,
            "grid_row": null,
            "grid_template_areas": null,
            "grid_template_columns": null,
            "grid_template_rows": null,
            "height": null,
            "justify_content": null,
            "justify_items": null,
            "left": null,
            "margin": null,
            "max_height": null,
            "max_width": null,
            "min_height": null,
            "min_width": null,
            "object_fit": null,
            "object_position": null,
            "order": null,
            "overflow": null,
            "overflow_x": null,
            "overflow_y": null,
            "padding": null,
            "right": null,
            "top": null,
            "visibility": null,
            "width": null
          }
        },
        "f3e23fe6d9134aac920041aba9b2c446": {
          "model_module": "@jupyter-widgets/controls",
          "model_name": "DescriptionStyleModel",
          "model_module_version": "1.5.0",
          "state": {
            "_model_module": "@jupyter-widgets/controls",
            "_model_module_version": "1.5.0",
            "_model_name": "DescriptionStyleModel",
            "_view_count": null,
            "_view_module": "@jupyter-widgets/base",
            "_view_module_version": "1.2.0",
            "_view_name": "StyleView",
            "description_width": ""
          }
        }
      }
    }
  },
  "nbformat": 4,
  "nbformat_minor": 5
}