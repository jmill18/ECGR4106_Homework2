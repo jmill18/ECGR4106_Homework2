{
 "cells": [
  {
   "cell_type": "code",
   "execution_count": 1,
   "id": "85cbc170",
   "metadata": {},
   "outputs": [],
   "source": [
    "import torch\n",
    "import torch.nn as nn\n",
    "import torchvision\n",
    "from torchvision import transforms\n",
    "from matplotlib import pyplot as plt\n",
    "import os"
   ]
  },
  {
   "cell_type": "code",
   "execution_count": 2,
   "id": "8be1b811",
   "metadata": {},
   "outputs": [
    {
     "name": "stdout",
     "output_type": "stream",
     "text": [
      "True\n"
     ]
    }
   ],
   "source": [
    "print(torch.cuda.is_available())\n",
    "device = torch.device('cuda' if torch.cuda.is_available() else 'cpu')"
   ]
  },
  {
   "cell_type": "code",
   "execution_count": 3,
   "id": "4b1a66ae",
   "metadata": {},
   "outputs": [],
   "source": [
    "def init_cnn(module):\n",
    "    if type(module) == nn.Linear or type(module) == nn.Conv2d:\n",
    "        nn.init.xavier_uniform_(module.weight)"
   ]
  },
  {
   "cell_type": "code",
   "execution_count": 4,
   "id": "dfff31af",
   "metadata": {},
   "outputs": [],
   "source": [
    "class AlexNet(nn.Module):\n",
    "    def __init__(self, lr=0.1, num_classes=10):\n",
    "        super(AlexNet, self).__init__()\n",
    "        self.lr = lr\n",
    "        self.net = nn.Sequential(\n",
    "            nn.LazyConv2d(96, kernel_size=11, stride=4, padding=1),\n",
    "            nn.ReLU(), nn.MaxPool2d(kernel_size=3, stride=2),\n",
    "            nn.LazyConv2d(256, kernel_size=5, padding=2), nn.ReLU(),\n",
    "            nn.MaxPool2d(kernel_size=3, stride=2),\n",
    "            nn.LazyConv2d(384, kernel_size=3, padding=1), nn.ReLU(),\n",
    "            nn.LazyConv2d(384, kernel_size=3, padding=1), nn.ReLU(),\n",
    "            nn.LazyConv2d(256, kernel_size=3, padding=1), nn.ReLU(),\n",
    "            nn.MaxPool2d(kernel_size=3, stride=2), nn.Flatten(),\n",
    "            nn.LazyLinear(4096), nn.ReLU(), nn.Dropout(p=0.5),\n",
    "            nn.LazyLinear(4096), nn.ReLU(), nn.Dropout(p=0.5),\n",
    "            nn.LazyLinear(num_classes))\n",
    "        self.net.apply(init_cnn)\n",
    "    def forward(self, x):\n",
    "        return self.net(x)\n",
    "    def layer_summary(self, X_shape):\n",
    "        X = torch.randn(*X_shape)\n",
    "        for layer in self.net:\n",
    "            X = layer(X)\n",
    "            print(layer.__class__.__name__, 'output shape:\\t', X.shape)"
   ]
  },
  {
   "cell_type": "code",
   "execution_count": 5,
   "id": "ffe59956",
   "metadata": {},
   "outputs": [],
   "source": [
    "class AlexNet_Modified(nn.Module):\n",
    "    def __init__(self, lr=0.1, num_classes=10):\n",
    "        super(AlexNet_Modified, self).__init__()\n",
    "        self.lr = lr\n",
    "        self.net = nn.Sequential(\n",
    "            nn.LazyConv2d(96, kernel_size=4, stride=1, padding=3),\n",
    "            nn.ReLU(), nn.MaxPool2d(kernel_size=3, stride=2),\n",
    "            nn.LazyConv2d(256, kernel_size=5, padding=2), nn.ReLU(),\n",
    "            nn.MaxPool2d(kernel_size=3, stride=2),\n",
    "            nn.LazyConv2d(384, kernel_size=3, padding=1), nn.ReLU(),\n",
    "            nn.LazyConv2d(384, kernel_size=3, padding=1), nn.ReLU(),\n",
    "            nn.LazyConv2d(256, kernel_size=3, padding=1), nn.ReLU(),\n",
    "            nn.MaxPool2d(kernel_size=3, stride=2), nn.Flatten(),\n",
    "            nn.LazyLinear(4096), nn.ReLU(), nn.Dropout(p=0.5),\n",
    "            nn.LazyLinear(4096), nn.ReLU(), nn.Dropout(p=0.5),\n",
    "            nn.LazyLinear(num_classes))\n",
    "        self.net.apply(init_cnn)\n",
    "    def forward(self, x):\n",
    "        return self.net(x)\n",
    "    def layer_summary(self, X_shape):\n",
    "        X = torch.randn(*X_shape)\n",
    "        for layer in self.net:\n",
    "            X = layer(X)\n",
    "            print(layer.__class__.__name__, 'output shape:\\t', X.shape)"
   ]
  },
  {
   "cell_type": "code",
   "execution_count": 6,
   "id": "187038ef",
   "metadata": {},
   "outputs": [
    {
     "name": "stdout",
     "output_type": "stream",
     "text": [
      "Conv2d output shape:\t torch.Size([1, 96, 54, 54])\n",
      "ReLU output shape:\t torch.Size([1, 96, 54, 54])\n",
      "MaxPool2d output shape:\t torch.Size([1, 96, 26, 26])\n",
      "Conv2d output shape:\t torch.Size([1, 256, 26, 26])\n",
      "ReLU output shape:\t torch.Size([1, 256, 26, 26])\n",
      "MaxPool2d output shape:\t torch.Size([1, 256, 12, 12])\n",
      "Conv2d output shape:\t torch.Size([1, 384, 12, 12])\n",
      "ReLU output shape:\t torch.Size([1, 384, 12, 12])\n",
      "Conv2d output shape:\t torch.Size([1, 384, 12, 12])\n",
      "ReLU output shape:\t torch.Size([1, 384, 12, 12])\n",
      "Conv2d output shape:\t torch.Size([1, 256, 12, 12])\n",
      "ReLU output shape:\t torch.Size([1, 256, 12, 12])\n",
      "MaxPool2d output shape:\t torch.Size([1, 256, 5, 5])\n",
      "Flatten output shape:\t torch.Size([1, 6400])\n"
     ]
    },
    {
     "name": "stderr",
     "output_type": "stream",
     "text": [
      "C:\\Users\\jacob\\anaconda3\\lib\\site-packages\\torch\\nn\\modules\\lazy.py:180: UserWarning: Lazy modules are a new feature under heavy development so changes to the API or functionality can happen at any moment.\n",
      "  warnings.warn('Lazy modules are a new feature under heavy development '\n"
     ]
    },
    {
     "name": "stdout",
     "output_type": "stream",
     "text": [
      "Linear output shape:\t torch.Size([1, 4096])\n",
      "ReLU output shape:\t torch.Size([1, 4096])\n",
      "Dropout output shape:\t torch.Size([1, 4096])\n",
      "Linear output shape:\t torch.Size([1, 4096])\n",
      "ReLU output shape:\t torch.Size([1, 4096])\n",
      "Dropout output shape:\t torch.Size([1, 4096])\n",
      "Linear output shape:\t torch.Size([1, 10])\n"
     ]
    }
   ],
   "source": [
    "AlexNet().layer_summary((1, 1, 224, 224))"
   ]
  },
  {
   "cell_type": "code",
   "execution_count": 7,
   "id": "cbc595e0",
   "metadata": {},
   "outputs": [
    {
     "name": "stdout",
     "output_type": "stream",
     "text": [
      "Conv2d output shape:\t torch.Size([1, 96, 31, 31])\n",
      "ReLU output shape:\t torch.Size([1, 96, 31, 31])\n",
      "MaxPool2d output shape:\t torch.Size([1, 96, 15, 15])\n",
      "Conv2d output shape:\t torch.Size([1, 256, 15, 15])\n",
      "ReLU output shape:\t torch.Size([1, 256, 15, 15])\n",
      "MaxPool2d output shape:\t torch.Size([1, 256, 7, 7])\n",
      "Conv2d output shape:\t torch.Size([1, 384, 7, 7])\n",
      "ReLU output shape:\t torch.Size([1, 384, 7, 7])\n",
      "Conv2d output shape:\t torch.Size([1, 384, 7, 7])\n",
      "ReLU output shape:\t torch.Size([1, 384, 7, 7])\n",
      "Conv2d output shape:\t torch.Size([1, 256, 7, 7])\n",
      "ReLU output shape:\t torch.Size([1, 256, 7, 7])\n",
      "MaxPool2d output shape:\t torch.Size([1, 256, 3, 3])\n",
      "Flatten output shape:\t torch.Size([1, 2304])\n",
      "Linear output shape:\t torch.Size([1, 4096])\n",
      "ReLU output shape:\t torch.Size([1, 4096])\n",
      "Dropout output shape:\t torch.Size([1, 4096])\n",
      "Linear output shape:\t torch.Size([1, 4096])\n",
      "ReLU output shape:\t torch.Size([1, 4096])\n",
      "Dropout output shape:\t torch.Size([1, 4096])\n",
      "Linear output shape:\t torch.Size([1, 10])\n"
     ]
    }
   ],
   "source": [
    "model = AlexNet_Modified()\n",
    "model.layer_summary((1, 1, 28, 28))"
   ]
  },
  {
   "cell_type": "code",
   "execution_count": 8,
   "id": "35bfb2d4",
   "metadata": {},
   "outputs": [],
   "source": [
    "resize=(224, 224)\n",
    "trans = transforms.Compose([transforms.Resize(resize),\n",
    "                           transforms.ToTensor()])\n",
    "train_data = torchvision.datasets.FashionMNIST(root='./data',\n",
    "                                              train=True,\n",
    "                                              transform=trans,\n",
    "                                              download=True)\n",
    "val_data = torchvision.datasets.FashionMNIST(root='./data',\n",
    "                                            train=False,\n",
    "                                            transform=trans,\n",
    "                                            download=True)\n",
    "train_loader = torch.utils.data.DataLoader(dataset=train_data,\n",
    "                                          batch_size=100,\n",
    "                                          shuffle=True, num_workers=os.cpu_count())\n",
    "val_loader = torch.utils.data.DataLoader(dataset=val_data,\n",
    "                                        batch_size=100,\n",
    "                                        shuffle=False)"
   ]
  },
  {
   "cell_type": "code",
   "execution_count": 9,
   "id": "658d93b2",
   "metadata": {},
   "outputs": [],
   "source": [
    "model = AlexNet().to(device)"
   ]
  },
  {
   "cell_type": "code",
   "execution_count": 10,
   "id": "390ef322",
   "metadata": {},
   "outputs": [],
   "source": [
    "lossCriterion = nn.CrossEntropyLoss()\n",
    "optim = torch.optim.Adam(model.parameters(), lr=0.001)"
   ]
  },
  {
   "cell_type": "code",
   "execution_count": null,
   "id": "2ef4a8e9",
   "metadata": {},
   "outputs": [],
   "source": [
    "num_epochs = 10\n",
    "valid_loss = [None] * 10\n",
    "training_loss = [None] * 10\n",
    "valid_acc = [None] * 10\n",
    "index = 0\n",
    "for epoch in range(num_epochs):\n",
    "    n_correct_pred = 0\n",
    "    n_samples = 0\n",
    "    for i, (images, labels) in enumerate(train_loader):\n",
    "        images = images.to(device)\n",
    "        labels = labels.to(device)\n",
    "        \n",
    "        outputs = model(images)\n",
    "        loss = lossCriterion(outputs, labels)\n",
    "        \n",
    "        optim.zero_grad()\n",
    "        loss.backward()\n",
    "        optim.step()\n",
    "        \n",
    "    with torch.no_grad():\n",
    "        for j, (valImages, valLabels) in enumerate(val_loader):\n",
    "            valImages = valImages.to(device)\n",
    "            valLabels = valLabels.to(device)\n",
    "            outputs = model(valImages)\n",
    "            val_loss = lossCriterion(outputs, valLabels)\n",
    "            _, pred = torch.max(outputs.data, 1)\n",
    "            n_samples += valLabels.size(0)\n",
    "            n_correct_pred += (pred == valLabels).sum().item()\n",
    "    \n",
    "    val_acc = (n_correct_pred / n_samples)\n",
    "    valid_loss[index] = val_loss.item()\n",
    "    training_loss[index] = loss.item()\n",
    "    valid_acc[index] = val_acc\n",
    "    index += 1\n",
    "    if (epoch+1) % 2 == 0:\n",
    "        print(f'Epoch [{epoch+1}/{num_epochs}],\\ttrain loss: {loss.item():.4f},\\tval_loss: {val_loss.item():.4f},\\tval_acc:{val_acc:.4f} %')"
   ]
  },
  {
   "cell_type": "code",
   "execution_count": null,
   "id": "25098fc8",
   "metadata": {},
   "outputs": [],
   "source": [
    "print(valid_loss)"
   ]
  },
  {
   "cell_type": "code",
   "execution_count": null,
   "id": "f5901525",
   "metadata": {},
   "outputs": [],
   "source": [
    "print(training_loss)"
   ]
  },
  {
   "cell_type": "code",
   "execution_count": null,
   "id": "ac93a57c",
   "metadata": {},
   "outputs": [],
   "source": [
    "print(valid_acc)"
   ]
  },
  {
   "cell_type": "code",
   "execution_count": null,
   "id": "47cd36fd",
   "metadata": {},
   "outputs": [],
   "source": []
  },
  {
   "cell_type": "code",
   "execution_count": null,
   "id": "89be8de4",
   "metadata": {},
   "outputs": [],
   "source": []
  },
  {
   "cell_type": "code",
   "execution_count": null,
   "id": "96fdd243",
   "metadata": {},
   "outputs": [],
   "source": []
  },
  {
   "cell_type": "code",
   "execution_count": null,
   "id": "7eb5f80c",
   "metadata": {},
   "outputs": [],
   "source": []
  }
 ],
 "metadata": {
  "kernelspec": {
   "display_name": "Python 3 (ipykernel)",
   "language": "python",
   "name": "python3"
  },
  "language_info": {
   "codemirror_mode": {
    "name": "ipython",
    "version": 3
   },
   "file_extension": ".py",
   "mimetype": "text/x-python",
   "name": "python",
   "nbconvert_exporter": "python",
   "pygments_lexer": "ipython3",
   "version": "3.9.12"
  }
 },
 "nbformat": 4,
 "nbformat_minor": 5
}
