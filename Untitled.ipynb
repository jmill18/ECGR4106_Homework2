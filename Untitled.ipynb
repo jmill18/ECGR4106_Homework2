{
 "cells": [
  {
   "cell_type": "code",
   "execution_count": 2,
   "id": "d77a372a",
   "metadata": {},
   "outputs": [],
   "source": [
    "import torch\n",
    "import torch.nn as nn\n",
    "import torchvision\n",
    "from torchvision import transforms\n",
    "from matplotlib import pyplot as plt\n",
    "import os"
   ]
  },
  {
   "cell_type": "code",
   "execution_count": 3,
   "id": "a3118906",
   "metadata": {},
   "outputs": [
    {
     "name": "stdout",
     "output_type": "stream",
     "text": [
      "True\n"
     ]
    }
   ],
   "source": [
    "print(torch.cuda.is_available())"
   ]
  },
  {
   "cell_type": "code",
   "execution_count": 4,
   "id": "bce74a36",
   "metadata": {},
   "outputs": [],
   "source": [
    "device = torch.device('cuda' if torch.cuda.is_available() else 'cpu')"
   ]
  },
  {
   "cell_type": "code",
   "execution_count": 5,
   "id": "9cc0c1f2",
   "metadata": {},
   "outputs": [],
   "source": [
    "def init_cnn(module):\n",
    "    if type(module) == nn.Linear or type(module) == nn.Conv2d:\n",
    "        nn.init.xavier_uniform_(module.weight)"
   ]
  },
  {
   "cell_type": "code",
   "execution_count": 6,
   "id": "c88b1e49",
   "metadata": {},
   "outputs": [],
   "source": [
    "class LeNet(nn.Module):\n",
    "    def __init__(self, lr=0.1, num_classes=10):\n",
    "        super(LeNet, self).__init__()\n",
    "        self.net = nn.Sequential(\n",
    "            nn.LazyConv2d(6, kernel_size=5, padding=2), nn.Sigmoid(),\n",
    "            nn.AvgPool2d(kernel_size=2, stride=2),\n",
    "            nn.LazyConv2d(16, kernel_size=5), nn.Sigmoid(),\n",
    "            nn.AvgPool2d(kernel_size=2, stride=2),\n",
    "            nn.Flatten(),\n",
    "            nn.LazyLinear(120), nn.Sigmoid(),\n",
    "            nn.LazyLinear(84), nn.Sigmoid(),\n",
    "            nn.LazyLinear(num_classes))\n",
    "    def forward(self, x):\n",
    "        modelOutput = self.net(x)\n",
    "        return modelOutput\n",
    "    def layer_summary(self, X_shape):\n",
    "        X = torch.randn(*X_shape)\n",
    "        for layer in self.net:\n",
    "            X = layer(X)\n",
    "            print(layer.__class__.__name__, 'output shape:\\t', X.shape)"
   ]
  },
  {
   "cell_type": "code",
   "execution_count": 7,
   "id": "5e96223c",
   "metadata": {},
   "outputs": [],
   "source": [
    "class ModernLeNet(nn.Module):\n",
    "    def __init__(self, lr=0.001, num_classes=10):\n",
    "        super(ModernLeNet, self).__init__()\n",
    "        self.net = nn.Sequential(\n",
    "            nn.LazyConv2d(6, kernel_size=5, padding=2), nn.ReLU(),\n",
    "            nn.MaxPool2d(kernel_size=2, stride=2),\n",
    "            nn.LazyConv2d(16, kernel_size=5), nn.ReLU(),\n",
    "            nn.MaxPool2d(kernel_size=2, stride=2),\n",
    "            nn.Flatten(),\n",
    "            nn.LazyLinear(120), nn.ReLU(),\n",
    "            nn.LazyLinear(84), nn.ReLU(),\n",
    "            nn.LazyLinear(num_classes))\n",
    "    def forward(self, x):\n",
    "        return self.net(x)\n",
    "    def layer_summary(self, X_shape):\n",
    "        X = torch.randn(*X_shape)\n",
    "        for layer in self.net:\n",
    "            X=layer(X)\n",
    "            print(layer.__class__.__name__, 'output shape:\\t', X.shape)"
   ]
  },
  {
   "cell_type": "code",
   "execution_count": 8,
   "id": "1dc0b4ad",
   "metadata": {},
   "outputs": [],
   "source": [
    "class ModernLeNet2(nn.Module):\n",
    "    def __init__(self, lr=0.001, num_classes=10):\n",
    "        super(ModernLeNet2, self).__init__()\n",
    "        self.net = nn.Sequential(\n",
    "            nn.LazyConv2d(6, kernel_size=2, padding=2), nn.ReLU(),\n",
    "            nn.MaxPool2d(kernel_size=2, stride=2),\n",
    "            nn.LazyConv2d(16, kernel_size=2), nn.ReLU(),\n",
    "            nn.MaxPool2d(kernel_size=2, stride=2),\n",
    "            nn.Flatten(),\n",
    "            nn.LazyLinear(120), nn.ReLU(),\n",
    "            nn.LazyLinear(84), nn.ReLU(),\n",
    "            nn.LazyLinear(num_classes))\n",
    "    def forward(self, x):\n",
    "        return self.net(x)\n",
    "    def layer_summary(self, X_shape):\n",
    "        X = torch.randn(*X_shape)\n",
    "        for layer in self.net:\n",
    "            X=layer(X)\n",
    "            print(layer.__class__.__name__, 'output shape:\\t', X.shape)"
   ]
  },
  {
   "cell_type": "code",
   "execution_count": 9,
   "id": "1e40648c",
   "metadata": {},
   "outputs": [],
   "source": [
    "class ModernLeNet3(nn.Module):\n",
    "    def __init__(self, lr=0.001, num_classes=10):\n",
    "        super(ModernLeNet3, self).__init__()\n",
    "        self.net = nn.Sequential(\n",
    "            nn.LazyConv2d(12, kernel_size=5, padding=2), nn.ReLU(),\n",
    "            nn.MaxPool2d(kernel_size=2, stride=2),\n",
    "            nn.LazyConv2d(24, kernel_size=5), nn.ReLU(),\n",
    "            nn.MaxPool2d(kernel_size=2, stride=2),\n",
    "            nn.Flatten(),\n",
    "            nn.LazyLinear(180), nn.ReLU(),\n",
    "            nn.LazyLinear(108), nn.ReLU(),\n",
    "            nn.LazyLinear(num_classes))\n",
    "    def forward(self, x):\n",
    "        return self.net(x)\n",
    "    def layer_summary(self, X_shape):\n",
    "        X = torch.randn(*X_shape)\n",
    "        for layer in self.net:\n",
    "            X=layer(X)\n",
    "            print(layer.__class__.__name__, 'output shape:\\t', X.shape)"
   ]
  },
  {
   "cell_type": "code",
   "execution_count": 154,
   "id": "8557de61",
   "metadata": {},
   "outputs": [],
   "source": [
    "class ModernLeNet4(nn.Module):\n",
    "    def __init__(self, lr=0.001, num_classes=10):\n",
    "        super(ModernLeNet4, self).__init__()\n",
    "        self.net = nn.Sequential(\n",
    "            nn.LazyConv2d(6, kernel_size=5, padding=2), nn.ReLU(),\n",
    "            nn.MaxPool2d(kernel_size=2, stride=2),\n",
    "            nn.LazyConv2d(16, kernel_size=5, padding=4), nn.ReLU(),\n",
    "            nn.MaxPool2d(kernel_size=2, stride=2),\n",
    "            nn.LazyConv2d(36, kernel_size=5), nn.ReLU(),\n",
    "            nn.MaxPool2d(kernel_size=2, stride=2),\n",
    "            nn.Flatten(),\n",
    "            nn.LazyLinear(120), nn.ReLU(),\n",
    "            nn.LazyLinear(84), nn.ReLU(),\n",
    "            nn.LazyLinear(num_classes))\n",
    "    def forward(self, x):\n",
    "        return self.net(x)\n",
    "    def layer_summary(self, X_shape):\n",
    "        X = torch.randn(*X_shape)\n",
    "        for layer in self.net:\n",
    "            X=layer(X)\n",
    "            print(layer.__class__.__name__, 'output shape:\\t', X.shape)"
   ]
  },
  {
   "cell_type": "code",
   "execution_count": 167,
   "id": "3dff2ac4",
   "metadata": {},
   "outputs": [],
   "source": [
    "class ModernLeNet5(nn.Module):\n",
    "    def __init__(self, lr=0.001, num_classes=10):\n",
    "        super(ModernLeNet5, self).__init__()\n",
    "        self.net = nn.Sequential(\n",
    "            nn.LazyConv2d(16, kernel_size=5), nn.ReLU(),\n",
    "            nn.MaxPool2d(kernel_size=2, stride=2),\n",
    "            nn.Flatten(),\n",
    "            nn.LazyLinear(120), nn.ReLU(),\n",
    "            nn.LazyLinear(84), nn.ReLU(),\n",
    "            nn.LazyLinear(num_classes))\n",
    "    def forward(self, x):\n",
    "        return self.net(x)\n",
    "    def layer_summary(self, X_shape):\n",
    "        X = torch.randn(*X_shape)\n",
    "        for layer in self.net:\n",
    "            X=layer(X)\n",
    "            print(layer.__class__.__name__, 'output shape:\\t', X.shape)"
   ]
  },
  {
   "cell_type": "code",
   "execution_count": 11,
   "id": "69811a4e",
   "metadata": {},
   "outputs": [
    {
     "name": "stdout",
     "output_type": "stream",
     "text": [
      "Conv2d output shape:\t torch.Size([1, 6, 28, 28])\n",
      "Sigmoid output shape:\t torch.Size([1, 6, 28, 28])\n",
      "AvgPool2d output shape:\t torch.Size([1, 6, 14, 14])\n",
      "Conv2d output shape:\t torch.Size([1, 16, 10, 10])\n",
      "Sigmoid output shape:\t torch.Size([1, 16, 10, 10])\n",
      "AvgPool2d output shape:\t torch.Size([1, 16, 5, 5])\n",
      "Flatten output shape:\t torch.Size([1, 400])\n",
      "Linear output shape:\t torch.Size([1, 120])\n",
      "Sigmoid output shape:\t torch.Size([1, 120])\n",
      "Linear output shape:\t torch.Size([1, 84])\n",
      "Sigmoid output shape:\t torch.Size([1, 84])\n",
      "Linear output shape:\t torch.Size([1, 10])\n"
     ]
    },
    {
     "name": "stderr",
     "output_type": "stream",
     "text": [
      "C:\\Users\\jacob\\anaconda3\\lib\\site-packages\\torch\\nn\\modules\\lazy.py:180: UserWarning: Lazy modules are a new feature under heavy development so changes to the API or functionality can happen at any moment.\n",
      "  warnings.warn('Lazy modules are a new feature under heavy development '\n"
     ]
    }
   ],
   "source": [
    "model = LeNet()\n",
    "model.layer_summary((1, 1, 28, 28))"
   ]
  },
  {
   "cell_type": "code",
   "execution_count": 12,
   "id": "d26afb4d",
   "metadata": {},
   "outputs": [
    {
     "name": "stdout",
     "output_type": "stream",
     "text": [
      "Conv2d output shape:\t torch.Size([1, 6, 28, 28])\n",
      "ReLU output shape:\t torch.Size([1, 6, 28, 28])\n",
      "MaxPool2d output shape:\t torch.Size([1, 6, 14, 14])\n",
      "Conv2d output shape:\t torch.Size([1, 16, 10, 10])\n",
      "ReLU output shape:\t torch.Size([1, 16, 10, 10])\n",
      "MaxPool2d output shape:\t torch.Size([1, 16, 5, 5])\n",
      "Flatten output shape:\t torch.Size([1, 400])\n",
      "Linear output shape:\t torch.Size([1, 120])\n",
      "ReLU output shape:\t torch.Size([1, 120])\n",
      "Linear output shape:\t torch.Size([1, 84])\n",
      "ReLU output shape:\t torch.Size([1, 84])\n",
      "Linear output shape:\t torch.Size([1, 10])\n"
     ]
    }
   ],
   "source": [
    "modern_model = ModernLeNet()\n",
    "modern_model.layer_summary((1,1,28,28))"
   ]
  },
  {
   "cell_type": "code",
   "execution_count": 13,
   "id": "00eaaa34",
   "metadata": {},
   "outputs": [
    {
     "name": "stdout",
     "output_type": "stream",
     "text": [
      "Conv2d output shape:\t torch.Size([1, 12, 28, 28])\n",
      "ReLU output shape:\t torch.Size([1, 12, 28, 28])\n",
      "MaxPool2d output shape:\t torch.Size([1, 12, 14, 14])\n",
      "Conv2d output shape:\t torch.Size([1, 24, 10, 10])\n",
      "ReLU output shape:\t torch.Size([1, 24, 10, 10])\n",
      "MaxPool2d output shape:\t torch.Size([1, 24, 5, 5])\n",
      "Flatten output shape:\t torch.Size([1, 600])\n",
      "Linear output shape:\t torch.Size([1, 180])\n",
      "ReLU output shape:\t torch.Size([1, 180])\n",
      "Linear output shape:\t torch.Size([1, 108])\n",
      "ReLU output shape:\t torch.Size([1, 108])\n",
      "Linear output shape:\t torch.Size([1, 10])\n"
     ]
    }
   ],
   "source": [
    "improved_modern_model2 = ModernLeNet3()\n",
    "improved_modern_model2.layer_summary((1,1,28,28))"
   ]
  },
  {
   "cell_type": "code",
   "execution_count": 155,
   "id": "b10f0551",
   "metadata": {},
   "outputs": [
    {
     "name": "stdout",
     "output_type": "stream",
     "text": [
      "Conv2d output shape:\t torch.Size([1, 6, 28, 28])\n",
      "ReLU output shape:\t torch.Size([1, 6, 28, 28])\n",
      "MaxPool2d output shape:\t torch.Size([1, 6, 14, 14])\n",
      "Conv2d output shape:\t torch.Size([1, 16, 18, 18])\n",
      "ReLU output shape:\t torch.Size([1, 16, 18, 18])\n",
      "MaxPool2d output shape:\t torch.Size([1, 16, 9, 9])\n",
      "Conv2d output shape:\t torch.Size([1, 36, 5, 5])\n",
      "ReLU output shape:\t torch.Size([1, 36, 5, 5])\n",
      "MaxPool2d output shape:\t torch.Size([1, 36, 2, 2])\n",
      "Flatten output shape:\t torch.Size([1, 144])\n",
      "Linear output shape:\t torch.Size([1, 120])\n",
      "ReLU output shape:\t torch.Size([1, 120])\n",
      "Linear output shape:\t torch.Size([1, 84])\n",
      "ReLU output shape:\t torch.Size([1, 84])\n",
      "Linear output shape:\t torch.Size([1, 10])\n"
     ]
    }
   ],
   "source": [
    "improved_modern_model3 = ModernLeNet4()\n",
    "improved_modern_model3.layer_summary((1,1,28,28))"
   ]
  },
  {
   "cell_type": "code",
   "execution_count": 168,
   "id": "7c863218",
   "metadata": {},
   "outputs": [
    {
     "name": "stdout",
     "output_type": "stream",
     "text": [
      "Conv2d output shape:\t torch.Size([1, 16, 24, 24])\n",
      "ReLU output shape:\t torch.Size([1, 16, 24, 24])\n",
      "MaxPool2d output shape:\t torch.Size([1, 16, 12, 12])\n",
      "Flatten output shape:\t torch.Size([1, 2304])\n",
      "Linear output shape:\t torch.Size([1, 120])\n",
      "ReLU output shape:\t torch.Size([1, 120])\n",
      "Linear output shape:\t torch.Size([1, 84])\n",
      "ReLU output shape:\t torch.Size([1, 84])\n",
      "Linear output shape:\t torch.Size([1, 10])\n"
     ]
    }
   ],
   "source": [
    "improved_modern_model4 = ModernLeNet5()\n",
    "improved_modern_model4.layer_summary((1,1,28,28))"
   ]
  },
  {
   "cell_type": "code",
   "execution_count": 169,
   "id": "6c5a352f",
   "metadata": {},
   "outputs": [],
   "source": [
    "train_data = torchvision.datasets.FashionMNIST(root='./data',\n",
    "                                              train=True,\n",
    "                                              transform=transforms.ToTensor(),\n",
    "                                              download = True)\n",
    "val_data = torchvision.datasets.FashionMNIST(root='./data',\n",
    "                                            train=False,\n",
    "                                            transform=transforms.ToTensor(),\n",
    "                                            download=True)\n",
    "train_loader = torch.utils.data.DataLoader(dataset=train_data,\n",
    "                                          batch_size=100,\n",
    "                                          shuffle=True, num_workers=os.cpu_count())\n",
    "val_loader = torch.utils.data.DataLoader(dataset=val_data,\n",
    "                                        batch_size=100,\n",
    "                                        shuffle=False)"
   ]
  },
  {
   "cell_type": "code",
   "execution_count": 170,
   "id": "b41ae991",
   "metadata": {},
   "outputs": [],
   "source": [
    "model = LeNet().to(device)\n",
    "modern_model = ModernLeNet().to(device)\n",
    "improved_modern_model = ModernLeNet2().to(device)\n",
    "improved_modern_model2 = ModernLeNet3().to(device)\n",
    "improved_modern_model3 = ModernLeNet4().to(device)\n",
    "improved_modern_model4 = ModernLeNet5().to(device)"
   ]
  },
  {
   "cell_type": "code",
   "execution_count": 171,
   "id": "98d165c3",
   "metadata": {},
   "outputs": [],
   "source": [
    "lossCriterion = nn.CrossEntropyLoss()\n",
    "optim = torch.optim.Adam(model.parameters(), lr=0.001)\n",
    "optim2 = torch.optim.Adam(modern_model.parameters(), lr=0.001)\n",
    "optim3 = torch.optim.Adam(improved_modern_model.parameters(), lr=0.001)\n",
    "optim4 = torch.optim.Adam(improved_modern_model2.parameters(), lr=0.001)\n",
    "optim5 = torch.optim.Adam(improved_modern_model3.parameters(), lr=0.001)\n",
    "optim6 = torch.optim.Adam(improved_modern_model4.parameters(), lr=0.001)"
   ]
  },
  {
   "cell_type": "code",
   "execution_count": 54,
   "id": "609b0920",
   "metadata": {},
   "outputs": [
    {
     "data": {
      "image/png": "[encoded data removed]",
      "text/plain": [
       "<Figure size 640x480 with 6 Axes>"
      ]
     },
     "metadata": {},
     "output_type": "display_data"
    }
   ],
   "source": [
    "imageExamples = iter(val_loader)\n",
    "example_data, example_targets = next(imageExamples)\n",
    "\n",
    "for i in range(6):\n",
    "    plt.subplot(2,3,i+1)\n",
    "    plt.imshow(example_data[i][0], cmap='gray')\n",
    "plt.show()"
   ]
  },
  {
   "cell_type": "code",
   "execution_count": 85,
   "id": "6d2ad6e9",
   "metadata": {},
   "outputs": [
    {
     "name": "stdout",
     "output_type": "stream",
     "text": [
      "Epoch [2/20], train loss: 0.7467, val loss: 0.6232, val_acc: 74.50 %\n",
      "Epoch [4/20], train loss: 0.6938, val loss: 0.5483, val_acc: 79.10 %\n",
      "Epoch [6/20], train loss: 0.5721, val loss: 0.5323, val_acc: 82.03 %\n",
      "Epoch [8/20], train loss: 0.3240, val loss: 0.4838, val_acc: 83.21 %\n",
      "Epoch [10/20], train loss: 0.4893, val loss: 0.4386, val_acc: 83.89 %\n",
      "Epoch [12/20], train loss: 0.3678, val loss: 0.3925, val_acc: 85.35 %\n",
      "Epoch [14/20], train loss: 0.4127, val loss: 0.4398, val_acc: 85.11 %\n",
      "Epoch [16/20], train loss: 0.3358, val loss: 0.4022, val_acc: 86.35 %\n",
      "Epoch [18/20], train loss: 0.1576, val loss: 0.3804, val_acc: 86.13 %\n",
      "Epoch [20/20], train loss: 0.2680, val loss: 0.3626, val_acc: 86.77 %\n"
     ]
    }
   ],
   "source": [
    "num_epochs = 20\n",
    "for epoch in range(num_epochs):\n",
    "    n_correct_pred = 0\n",
    "    n_samples = 0\n",
    "    for i, (images, labels) in enumerate(train_loader):\n",
    "        images = images.to(device)\n",
    "        labels = labels.to(device)\n",
    "        \n",
    "        outputs = model(images)\n",
    "        loss = lossCriterion(outputs, labels)\n",
    "        \n",
    "        optim.zero_grad()\n",
    "        loss.backward()\n",
    "        optim.step()\n",
    "        \n",
    "    with torch.no_grad():\n",
    "        for j, (valImages, valLabels) in enumerate(val_loader):\n",
    "            valImages = valImages.to(device)\n",
    "            valLabels = valLabels.to(device)\n",
    "            outputs = model(valImages)\n",
    "            val_loss = lossCriterion(outputs, valLabels)\n",
    "            _, pred = torch.max(outputs.data, 1)\n",
    "            n_samples += valLabels.size(0)\n",
    "            n_correct_pred += (pred == valLabels).sum().item()\n",
    "    \n",
    "    if (epoch+1) % 2 == 0:\n",
    "        val_acc = (n_correct_pred / n_samples) * 100.0\n",
    "        print(f'Epoch [{epoch+1}/{num_epochs}], train loss: {loss.item():.4f}, val loss: {val_loss.item():.4f}, val_acc: {val_acc:.2f} %')"
   ]
  },
  {
   "cell_type": "code",
   "execution_count": 86,
   "id": "aa90ebda",
   "metadata": {},
   "outputs": [
    {
     "name": "stdout",
     "output_type": "stream",
     "text": [
      "Epoch [2/20], train loss: 0.6344, val loss: 0.4320, val_acc: 83.73 %\n",
      "Epoch [4/20], train loss: 0.3515, val loss: 0.3662, val_acc: 86.80 %\n",
      "Epoch [6/20], train loss: 0.1531, val loss: 0.3386, val_acc: 87.56 %\n",
      "Epoch [8/20], train loss: 0.2119, val loss: 0.3520, val_acc: 88.71 %\n",
      "Epoch [10/20], train loss: 0.2826, val loss: 0.3452, val_acc: 89.71 %\n",
      "Epoch [12/20], train loss: 0.1403, val loss: 0.3210, val_acc: 89.72 %\n",
      "Epoch [14/20], train loss: 0.2123, val loss: 0.2968, val_acc: 89.75 %\n",
      "Epoch [16/20], train loss: 0.2016, val loss: 0.3117, val_acc: 89.31 %\n",
      "Epoch [18/20], train loss: 0.2072, val loss: 0.3009, val_acc: 89.99 %\n",
      "Epoch [20/20], train loss: 0.2751, val loss: 0.2701, val_acc: 90.04 %\n"
     ]
    }
   ],
   "source": [
    "num_epochs = 20\n",
    "for epoch in range(num_epochs):\n",
    "    n_correct_pred = 0\n",
    "    n_samples = 0\n",
    "    for i, (images, labels) in enumerate(train_loader):\n",
    "        images = images.to(device)\n",
    "        labels = labels.to(device)\n",
    "        \n",
    "        outputs = modern_model(images)\n",
    "        loss = lossCriterion(outputs, labels)\n",
    "        \n",
    "        optim2.zero_grad()\n",
    "        loss.backward()\n",
    "        optim2.step()\n",
    "        \n",
    "    with torch.no_grad():\n",
    "        for j, (valImages, valLabels) in enumerate(val_loader):\n",
    "            valImages = valImages.to(device)\n",
    "            valLabels = valLabels.to(device)\n",
    "            outputs = modern_model(valImages)\n",
    "            val_loss = lossCriterion(outputs, valLabels)\n",
    "            _, pred = torch.max(outputs.data, 1)\n",
    "            n_samples += valLabels.size(0)\n",
    "            n_correct_pred += (pred == valLabels).sum().item()\n",
    "    \n",
    "    if (epoch+1) % 2 == 0:\n",
    "        val_acc = (n_correct_pred / n_samples) * 100.0\n",
    "        print(f'Epoch [{epoch+1}/{num_epochs}], train loss: {loss.item():.4f}, val loss: {val_loss.item():.4f}, val_acc: {val_acc:.2f} %')"
   ]
  },
  {
   "cell_type": "code",
   "execution_count": 149,
   "id": "0aaa1cab",
   "metadata": {},
   "outputs": [
    {
     "name": "stdout",
     "output_type": "stream",
     "text": [
      "Epoch [2/20], train loss: 0.4459, val loss: 0.4172, val_acc: 85.92 %\n",
      "Epoch [4/20], train loss: 0.3770, val loss: 0.3832, val_acc: 88.04 %\n",
      "Epoch [6/20], train loss: 0.3319, val loss: 0.3707, val_acc: 87.18 %\n",
      "Epoch [8/20], train loss: 0.2495, val loss: 0.3283, val_acc: 89.47 %\n",
      "Epoch [10/20], train loss: 0.1750, val loss: 0.2672, val_acc: 89.77 %\n",
      "Epoch [12/20], train loss: 0.1815, val loss: 0.2296, val_acc: 90.16 %\n",
      "Epoch [14/20], train loss: 0.4033, val loss: 0.2883, val_acc: 89.80 %\n",
      "Epoch [16/20], train loss: 0.2643, val loss: 0.2493, val_acc: 90.89 %\n",
      "Epoch [18/20], train loss: 0.2148, val loss: 0.2303, val_acc: 90.21 %\n",
      "Epoch [20/20], train loss: 0.0624, val loss: 0.2241, val_acc: 91.01 %\n"
     ]
    }
   ],
   "source": [
    "num_epochs = 20\n",
    "for epoch in range(num_epochs):\n",
    "    n_correct_pred = 0\n",
    "    n_samples = 0\n",
    "    for i, (images, labels) in enumerate(train_loader):\n",
    "        images = images.to(device)\n",
    "        labels = labels.to(device)\n",
    "        \n",
    "        outputs = improved_modern_model(images)\n",
    "        loss = lossCriterion(outputs, labels)\n",
    "        \n",
    "        optim3.zero_grad()\n",
    "        loss.backward()\n",
    "        optim3.step()\n",
    "        \n",
    "    with torch.no_grad():\n",
    "        for j, (valImages, valLabels) in enumerate(val_loader):\n",
    "            valImages = valImages.to(device)\n",
    "            valLabels = valLabels.to(device)\n",
    "            outputs = improved_modern_model(valImages)\n",
    "            val_loss = lossCriterion(outputs, valLabels)\n",
    "            _, pred = torch.max(outputs.data, 1)\n",
    "            n_samples += valLabels.size(0)\n",
    "            n_correct_pred += (pred == valLabels).sum().item()\n",
    "    \n",
    "    if (epoch+1) % 2 == 0:\n",
    "        val_acc = (n_correct_pred / n_samples) * 100.0\n",
    "        print(f'Epoch [{epoch+1}/{num_epochs}], train loss: {loss.item():.4f}, val loss: {val_loss.item():.4f}, val_acc: {val_acc:.2f} %')"
   ]
  },
  {
   "cell_type": "code",
   "execution_count": 255,
   "id": "16d306af",
   "metadata": {},
   "outputs": [
    {
     "name": "stdout",
     "output_type": "stream",
     "text": [
      "Epoch [2/20], train loss: 0.2938, val loss: 0.4115, val_acc: 86.94 %\n",
      "Epoch [4/20], train loss: 0.2651, val loss: 0.3277, val_acc: 88.58 %\n",
      "Epoch [6/20], train loss: 0.2418, val loss: 0.3357, val_acc: 89.67 %\n",
      "Epoch [8/20], train loss: 0.3429, val loss: 0.2624, val_acc: 89.93 %\n",
      "Epoch [10/20], train loss: 0.2177, val loss: 0.3187, val_acc: 90.04 %\n",
      "Epoch [12/20], train loss: 0.2946, val loss: 0.2616, val_acc: 90.67 %\n",
      "Epoch [14/20], train loss: 0.1498, val loss: 0.2822, val_acc: 90.63 %\n",
      "Epoch [16/20], train loss: 0.1333, val loss: 0.2396, val_acc: 91.05 %\n",
      "Epoch [18/20], train loss: 0.1830, val loss: 0.2471, val_acc: 90.98 %\n",
      "Epoch [20/20], train loss: 0.2088, val loss: 0.3217, val_acc: 91.57 %\n"
     ]
    }
   ],
   "source": [
    "num_epochs = 20\n",
    "for epoch in range(num_epochs):\n",
    "    n_correct_pred = 0\n",
    "    n_samples = 0\n",
    "    for i, (images, labels) in enumerate(train_loader):\n",
    "        images = images.to(device)\n",
    "        labels = labels.to(device)\n",
    "        \n",
    "        outputs = improved_modern_model2(images)\n",
    "        loss = lossCriterion(outputs, labels)\n",
    "        \n",
    "        optim4.zero_grad()\n",
    "        loss.backward()\n",
    "        optim4.step()\n",
    "        \n",
    "    with torch.no_grad():\n",
    "        for j, (valImages, valLabels) in enumerate(val_loader):\n",
    "            valImages = valImages.to(device)\n",
    "            valLabels = valLabels.to(device)\n",
    "            outputs = improved_modern_model2(valImages)\n",
    "            val_loss = lossCriterion(outputs, valLabels)\n",
    "            _, pred = torch.max(outputs.data, 1)\n",
    "            n_samples += valLabels.size(0)\n",
    "            n_correct_pred += (pred == valLabels).sum().item()\n",
    "    \n",
    "    if (epoch+1) % 2 == 0:\n",
    "        val_acc = (n_correct_pred / n_samples) * 100.0\n",
    "        print(f'Epoch [{epoch+1}/{num_epochs}], train loss: {loss.item():.4f}, val loss: {val_loss.item():.4f}, val_acc: {val_acc:.2f} %')"
   ]
  },
  {
   "cell_type": "code",
   "execution_count": 159,
   "id": "f6bcce41",
   "metadata": {},
   "outputs": [
    {
     "name": "stdout",
     "output_type": "stream",
     "text": [
      "Epoch [2/20], train loss: 0.3330, val loss: 0.4105, val_acc: 84.32 %\n",
      "Epoch [4/20], train loss: 0.4486, val loss: 0.3279, val_acc: 86.39 %\n",
      "Epoch [6/20], train loss: 0.2483, val loss: 0.2779, val_acc: 87.76 %\n",
      "Epoch [8/20], train loss: 0.1477, val loss: 0.3296, val_acc: 89.50 %\n",
      "Epoch [10/20], train loss: 0.2757, val loss: 0.3009, val_acc: 89.73 %\n",
      "Epoch [12/20], train loss: 0.1195, val loss: 0.2890, val_acc: 89.98 %\n",
      "Epoch [14/20], train loss: 0.2284, val loss: 0.2472, val_acc: 89.99 %\n",
      "Epoch [16/20], train loss: 0.1174, val loss: 0.2651, val_acc: 90.25 %\n",
      "Epoch [18/20], train loss: 0.1804, val loss: 0.2754, val_acc: 90.45 %\n",
      "Epoch [20/20], train loss: 0.1136, val loss: 0.2591, val_acc: 90.66 %\n"
     ]
    }
   ],
   "source": [
    "num_epochs = 20\n",
    "for epoch in range(num_epochs):\n",
    "    n_correct_pred = 0\n",
    "    n_samples = 0\n",
    "    for i, (images, labels) in enumerate(train_loader):\n",
    "        images = images.to(device)\n",
    "        labels = labels.to(device)\n",
    "        \n",
    "        outputs = improved_modern_model3(images)\n",
    "        loss = lossCriterion(outputs, labels)\n",
    "        \n",
    "        optim5.zero_grad()\n",
    "        loss.backward()\n",
    "        optim5.step()\n",
    "        \n",
    "    with torch.no_grad():\n",
    "        for j, (valImages, valLabels) in enumerate(val_loader):\n",
    "            valImages = valImages.to(device)\n",
    "            valLabels = valLabels.to(device)\n",
    "            outputs = improved_modern_model3(valImages)\n",
    "            val_loss = lossCriterion(outputs, valLabels)\n",
    "            _, pred = torch.max(outputs.data, 1)\n",
    "            n_samples += valLabels.size(0)\n",
    "            n_correct_pred += (pred == valLabels).sum().item()\n",
    "    \n",
    "    if (epoch+1) % 2 == 0:\n",
    "        val_acc = (n_correct_pred / n_samples) * 100.0\n",
    "        print(f'Epoch [{epoch+1}/{num_epochs}], train loss: {loss.item():.4f}, val loss: {val_loss.item():.4f}, val_acc: {val_acc:.2f} %')"
   ]
  },
  {
   "cell_type": "code",
   "execution_count": 172,
   "id": "12464305",
   "metadata": {},
   "outputs": [
    {
     "name": "stdout",
     "output_type": "stream",
     "text": [
      "Epoch [2/20], train loss: 0.3079, val loss: 0.3729, val_acc: 87.57 %\n",
      "Epoch [4/20], train loss: 0.4120, val loss: 0.3009, val_acc: 88.75 %\n",
      "Epoch [6/20], train loss: 0.1529, val loss: 0.2737, val_acc: 89.85 %\n",
      "Epoch [8/20], train loss: 0.2285, val loss: 0.2645, val_acc: 90.40 %\n",
      "Epoch [10/20], train loss: 0.1514, val loss: 0.2765, val_acc: 90.47 %\n",
      "Epoch [12/20], train loss: 0.1463, val loss: 0.2840, val_acc: 90.83 %\n",
      "Epoch [14/20], train loss: 0.1003, val loss: 0.3296, val_acc: 91.23 %\n",
      "Epoch [16/20], train loss: 0.0318, val loss: 0.2952, val_acc: 91.69 %\n",
      "Epoch [18/20], train loss: 0.1161, val loss: 0.3612, val_acc: 91.19 %\n",
      "Epoch [20/20], train loss: 0.0464, val loss: 0.4069, val_acc: 91.32 %\n"
     ]
    }
   ],
   "source": [
    "num_epochs = 20\n",
    "for epoch in range(num_epochs):\n",
    "    n_correct_pred = 0\n",
    "    n_samples = 0\n",
    "    for i, (images, labels) in enumerate(train_loader):\n",
    "        images = images.to(device)\n",
    "        labels = labels.to(device)\n",
    "        \n",
    "        outputs = improved_modern_model4(images)\n",
    "        loss = lossCriterion(outputs, labels)\n",
    "        \n",
    "        optim6.zero_grad()\n",
    "        loss.backward()\n",
    "        optim6.step()\n",
    "        \n",
    "    with torch.no_grad():\n",
    "        for j, (valImages, valLabels) in enumerate(val_loader):\n",
    "            valImages = valImages.to(device)\n",
    "            valLabels = valLabels.to(device)\n",
    "            outputs = improved_modern_model4(valImages)\n",
    "            val_loss = lossCriterion(outputs, valLabels)\n",
    "            _, pred = torch.max(outputs.data, 1)\n",
    "            n_samples += valLabels.size(0)\n",
    "            n_correct_pred += (pred == valLabels).sum().item()\n",
    "    \n",
    "    if (epoch+1) % 2 == 0:\n",
    "        val_acc = (n_correct_pred / n_samples) * 100.0\n",
    "        print(f'Epoch [{epoch+1}/{num_epochs}], train loss: {loss.item():.4f}, val loss: {val_loss.item():.4f}, val_acc: {val_acc:.2f} %')"
   ]
  },
  {
   "cell_type": "code",
   "execution_count": null,
   "id": "860d7288",
   "metadata": {},
   "outputs": [],
   "source": []
  }
 ],
 "metadata": {
  "kernelspec": {
   "display_name": "Python 3 (ipykernel)",
   "language": "python",
   "name": "python3"
  },
  "language_info": {
   "codemirror_mode": {
    "name": "ipython",
    "version": 3
   },
   "file_extension": ".py",
   "mimetype": "text/x-python",
   "name": "python",
   "nbconvert_exporter": "python",
   "pygments_lexer": "ipython3",
   "version": "3.9.12"
  }
 },
 "nbformat": 4,
 "nbformat_minor": 5
}
